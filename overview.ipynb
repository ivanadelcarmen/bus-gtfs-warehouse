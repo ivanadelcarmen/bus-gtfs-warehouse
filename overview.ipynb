{
 "cells": [
  {
   "cell_type": "markdown",
   "id": "187d1f07",
   "metadata": {},
   "source": [
    "## **Exploratory analysis of the Buenos Aires GTFS for buses**"
   ]
  },
  {
   "cell_type": "code",
   "execution_count": 55,
   "id": "aa9d48c8",
   "metadata": {},
   "outputs": [],
   "source": [
    "import polars as pl\n",
    "import glob\n",
    "import os"
   ]
  },
  {
   "cell_type": "code",
   "execution_count": 56,
   "id": "e9ad77f4",
   "metadata": {},
   "outputs": [],
   "source": [
    "calendar_dates = pl.read_csv(os.path.join('source','calendar_dates.txt'))\n",
    "trips = pl.read_csv(os.path.join('source','trips.txt'))\n",
    "routes = pl.read_csv(os.path.join('source','routes.txt'))\n",
    "shapes = pl.read_csv(os.path.join('source','shapes.txt'))\n",
    "stop_times = pl.read_csv(os.path.join('source','stop_times.txt'))"
   ]
  },
  {
   "cell_type": "markdown",
   "id": "22ca9baf",
   "metadata": {},
   "source": [
    "Search for null values in each DataFrame"
   ]
  },
  {
   "cell_type": "code",
   "execution_count": 57,
   "id": "5698feba",
   "metadata": {},
   "outputs": [
    {
     "data": {
      "text/plain": [
       "'agency'"
      ]
     },
     "execution_count": 57,
     "metadata": {},
     "output_type": "execute_result"
    }
   ],
   "source": [
    "path = os.path.join('source', '*.txt')\n",
    "files = [os.path.basename(f)[0:-4] for f in glob.glob(path)]\n",
    "files.pop(0) # This file will not be used, although it could be useful"
   ]
  },
  {
   "cell_type": "code",
   "execution_count": 58,
   "id": "3af89490",
   "metadata": {},
   "outputs": [
    {
     "name": "stdout",
     "output_type": "stream",
     "text": [
      "0 null values in the table CALENDAR_DATES\n",
      "0 null values in the table ROUTES\n",
      "0 null values in the table SHAPES\n",
      "0 null values in the table STOP_TIMES\n",
      "0 null values in the table TRIPS\n"
     ]
    }
   ],
   "source": [
    "for table in files:\n",
    "    nulls = 0\n",
    "    columns = globals()[table].get_columns()\n",
    "    for col in columns:\n",
    "        nulls += col.is_null().sum()\n",
    "    print(f'{nulls} null values in the table {table.upper()}')"
   ]
  },
  {
   "cell_type": "markdown",
   "id": "6435f4f5",
   "metadata": {},
   "source": [
    "---\n",
    "### Structure of `calendar_dates`"
   ]
  },
  {
   "cell_type": "code",
   "execution_count": 59,
   "id": "a2e6920e",
   "metadata": {},
   "outputs": [
    {
     "data": {
      "text/html": [
       "<div><style>\n",
       ".dataframe > thead > tr,\n",
       ".dataframe > tbody > tr {\n",
       "  text-align: right;\n",
       "  white-space: pre-wrap;\n",
       "}\n",
       "</style>\n",
       "<small>shape: (5, 3)</small><table border=\"1\" class=\"dataframe\"><thead><tr><th>service_id</th><th>date</th><th>exception_type</th></tr><tr><td>i64</td><td>i64</td><td>i64</td></tr></thead><tbody><tr><td>1</td><td>20190928</td><td>1</td></tr><tr><td>2</td><td>20190929</td><td>1</td></tr><tr><td>3</td><td>20190930</td><td>1</td></tr><tr><td>3</td><td>20191001</td><td>1</td></tr><tr><td>3</td><td>20191002</td><td>1</td></tr></tbody></table></div>"
      ],
      "text/plain": [
       "shape: (5, 3)\n",
       "┌────────────┬──────────┬────────────────┐\n",
       "│ service_id ┆ date     ┆ exception_type │\n",
       "│ ---        ┆ ---      ┆ ---            │\n",
       "│ i64        ┆ i64      ┆ i64            │\n",
       "╞════════════╪══════════╪════════════════╡\n",
       "│ 1          ┆ 20190928 ┆ 1              │\n",
       "│ 2          ┆ 20190929 ┆ 1              │\n",
       "│ 3          ┆ 20190930 ┆ 1              │\n",
       "│ 3          ┆ 20191001 ┆ 1              │\n",
       "│ 3          ┆ 20191002 ┆ 1              │\n",
       "└────────────┴──────────┴────────────────┘"
      ]
     },
     "execution_count": 59,
     "metadata": {},
     "output_type": "execute_result"
    }
   ],
   "source": [
    "calendar_dates.head()"
   ]
  },
  {
   "cell_type": "markdown",
   "id": "a01c5ba7",
   "metadata": {},
   "source": [
    "There are **4 types** of services attached to each trip, with service 3 being the one with most days associated "
   ]
  },
  {
   "cell_type": "code",
   "execution_count": 60,
   "id": "5d4a051f",
   "metadata": {},
   "outputs": [
    {
     "data": {
      "text/html": [
       "<div><style>\n",
       ".dataframe > thead > tr,\n",
       ".dataframe > tbody > tr {\n",
       "  text-align: right;\n",
       "  white-space: pre-wrap;\n",
       "}\n",
       "</style>\n",
       "<small>shape: (4, 2)</small><table border=\"1\" class=\"dataframe\"><thead><tr><th>service_id</th><th>total_days</th></tr><tr><td>i64</td><td>u32</td></tr></thead><tbody><tr><td>3</td><td>63</td></tr><tr><td>1</td><td>15</td></tr><tr><td>2</td><td>13</td></tr><tr><td>4</td><td>4</td></tr></tbody></table></div>"
      ],
      "text/plain": [
       "shape: (4, 2)\n",
       "┌────────────┬────────────┐\n",
       "│ service_id ┆ total_days │\n",
       "│ ---        ┆ ---        │\n",
       "│ i64        ┆ u32        │\n",
       "╞════════════╪════════════╡\n",
       "│ 3          ┆ 63         │\n",
       "│ 1          ┆ 15         │\n",
       "│ 2          ┆ 13         │\n",
       "│ 4          ┆ 4          │\n",
       "└────────────┴────────────┘"
      ]
     },
     "execution_count": 60,
     "metadata": {},
     "output_type": "execute_result"
    }
   ],
   "source": [
    "calendar_dates.group_by('service_id').len('total_days').sort('total_days', descending=True)"
   ]
  },
  {
   "cell_type": "code",
   "execution_count": 61,
   "id": "c1e305cb",
   "metadata": {},
   "outputs": [],
   "source": [
    "# Cast 'date' column to str\n",
    "calendar_dates = calendar_dates.with_columns(\n",
    "    pl.col('date').cast(pl.Utf8)\n",
    ")"
   ]
  },
  {
   "cell_type": "code",
   "execution_count": 62,
   "id": "493ee05b",
   "metadata": {},
   "outputs": [],
   "source": [
    "# Partition the 'date' column into year, month and day columns\n",
    "calendar_dates = calendar_dates.with_columns([\n",
    "    pl.col('date').str.strptime(pl.Date, '%Y%m%d').dt.year().alias('year'),\n",
    "    pl.col('date').str.strptime(pl.Date, '%Y%m%d').dt.month().alias('month'),\n",
    "    pl.col('date').str.strptime(pl.Date, '%Y%m%d').dt.day().alias('day')\n",
    "])"
   ]
  },
  {
   "cell_type": "markdown",
   "id": "4ac1f2da",
   "metadata": {},
   "source": [
    "Comparing the list of days for each month in each service in the `services_calendar` DataFrame with the Argentinian national calendar, the following attributes of each service type can be inferred:\n",
    "\n",
    "* Service 1 is for saturdays and holiday vespers\n",
    "* Service 2 is for sundays\n",
    "* Service 3 is for week days\n",
    "* Service 4 is for holidays"
   ]
  },
  {
   "cell_type": "code",
   "execution_count": 63,
   "id": "d964ef53",
   "metadata": {},
   "outputs": [],
   "source": [
    "services_calendar = (\n",
    "    calendar_dates\n",
    "    .group_by(['service_id', 'year', 'month'])\n",
    "    .agg(pl.col('day').alias('days'))\n",
    "    .sort(['service_id', 'year', 'month'])\n",
    ")"
   ]
  },
  {
   "cell_type": "markdown",
   "id": "2002830d",
   "metadata": {},
   "source": [
    "Let's take for example service 4:"
   ]
  },
  {
   "cell_type": "code",
   "execution_count": 64,
   "id": "7f1f4b1d",
   "metadata": {},
   "outputs": [
    {
     "data": {
      "text/html": [
       "<div><style>\n",
       ".dataframe > thead > tr,\n",
       ".dataframe > tbody > tr {\n",
       "  text-align: right;\n",
       "  white-space: pre-wrap;\n",
       "}\n",
       "</style>\n",
       "<small>shape: (3, 4)</small><table border=\"1\" class=\"dataframe\"><thead><tr><th>service_id</th><th>year</th><th>month</th><th>days</th></tr><tr><td>i64</td><td>i32</td><td>i8</td><td>list[i8]</td></tr></thead><tbody><tr><td>4</td><td>2019</td><td>10</td><td>[12]</td></tr><tr><td>4</td><td>2019</td><td>11</td><td>[18]</td></tr><tr><td>4</td><td>2019</td><td>12</td><td>[8, 25]</td></tr></tbody></table></div>"
      ],
      "text/plain": [
       "shape: (3, 4)\n",
       "┌────────────┬──────┬───────┬──────────┐\n",
       "│ service_id ┆ year ┆ month ┆ days     │\n",
       "│ ---        ┆ ---  ┆ ---   ┆ ---      │\n",
       "│ i64        ┆ i32  ┆ i8    ┆ list[i8] │\n",
       "╞════════════╪══════╪═══════╪══════════╡\n",
       "│ 4          ┆ 2019 ┆ 10    ┆ [12]     │\n",
       "│ 4          ┆ 2019 ┆ 11    ┆ [18]     │\n",
       "│ 4          ┆ 2019 ┆ 12    ┆ [8, 25]  │\n",
       "└────────────┴──────┴───────┴──────────┘"
      ]
     },
     "execution_count": 64,
     "metadata": {},
     "output_type": "execute_result"
    }
   ],
   "source": [
    "# Here, each day for each month is a national holiday in Argentina for the given year\n",
    "services_calendar.filter(pl.col('service_id') == 4)"
   ]
  },
  {
   "cell_type": "markdown",
   "id": "ad7b9bf9",
   "metadata": {},
   "source": [
    "---\n",
    "### Structure of `trips`"
   ]
  },
  {
   "cell_type": "code",
   "execution_count": 65,
   "id": "6a15c9cc",
   "metadata": {},
   "outputs": [
    {
     "data": {
      "text/html": [
       "<div><style>\n",
       ".dataframe > thead > tr,\n",
       ".dataframe > tbody > tr {\n",
       "  text-align: right;\n",
       "  white-space: pre-wrap;\n",
       "}\n",
       "</style>\n",
       "<small>shape: (5, 9)</small><table border=\"1\" class=\"dataframe\"><thead><tr><th>route_id</th><th>service_id</th><th>trip_id</th><th>trip_headsign</th><th>trip_short_name</th><th>direction_id</th><th>block_id</th><th>shape_id</th><th>exceptional</th></tr><tr><td>i64</td><td>i64</td><td>str</td><td>str</td><td>str</td><td>i64</td><td>str</td><td>i64</td><td>i64</td></tr></thead><tbody><tr><td>100</td><td>1</td><td>&quot;1-1&quot;</td><td>&quot;a Pque. Avellaneda&quot;</td><td>&quot;100SI0001&quot;</td><td>0</td><td>&quot;100SI0001&quot;</td><td>1</td><td>0</td></tr><tr><td>100</td><td>1</td><td>&quot;2-1&quot;</td><td>&quot;a Pque. Avellaneda&quot;</td><td>&quot;100SI0002&quot;</td><td>0</td><td>&quot;100SI0002&quot;</td><td>1</td><td>0</td></tr><tr><td>100</td><td>1</td><td>&quot;3-1&quot;</td><td>&quot;a Pque. Avellaneda&quot;</td><td>&quot;100SI0003&quot;</td><td>0</td><td>&quot;100SI0003&quot;</td><td>1</td><td>0</td></tr><tr><td>100</td><td>1</td><td>&quot;4-1&quot;</td><td>&quot;a Pque. Avellaneda&quot;</td><td>&quot;100SI0004&quot;</td><td>0</td><td>&quot;100SI0004&quot;</td><td>1</td><td>0</td></tr><tr><td>100</td><td>1</td><td>&quot;5-1&quot;</td><td>&quot;a Pque. Avellaneda&quot;</td><td>&quot;100SI0005&quot;</td><td>0</td><td>&quot;100SI0005&quot;</td><td>1</td><td>0</td></tr></tbody></table></div>"
      ],
      "text/plain": [
       "shape: (5, 9)\n",
       "┌──────────┬────────────┬─────────┬────────────┬───┬────────────┬───────────┬──────────┬───────────┐\n",
       "│ route_id ┆ service_id ┆ trip_id ┆ trip_heads ┆ … ┆ direction_ ┆ block_id  ┆ shape_id ┆ exception │\n",
       "│ ---      ┆ ---        ┆ ---     ┆ ign        ┆   ┆ id         ┆ ---       ┆ ---      ┆ al        │\n",
       "│ i64      ┆ i64        ┆ str     ┆ ---        ┆   ┆ ---        ┆ str       ┆ i64      ┆ ---       │\n",
       "│          ┆            ┆         ┆ str        ┆   ┆ i64        ┆           ┆          ┆ i64       │\n",
       "╞══════════╪════════════╪═════════╪════════════╪═══╪════════════╪═══════════╪══════════╪═══════════╡\n",
       "│ 100      ┆ 1          ┆ 1-1     ┆ a Pque.    ┆ … ┆ 0          ┆ 100SI0001 ┆ 1        ┆ 0         │\n",
       "│          ┆            ┆         ┆ Avellaneda ┆   ┆            ┆           ┆          ┆           │\n",
       "│ 100      ┆ 1          ┆ 2-1     ┆ a Pque.    ┆ … ┆ 0          ┆ 100SI0002 ┆ 1        ┆ 0         │\n",
       "│          ┆            ┆         ┆ Avellaneda ┆   ┆            ┆           ┆          ┆           │\n",
       "│ 100      ┆ 1          ┆ 3-1     ┆ a Pque.    ┆ … ┆ 0          ┆ 100SI0003 ┆ 1        ┆ 0         │\n",
       "│          ┆            ┆         ┆ Avellaneda ┆   ┆            ┆           ┆          ┆           │\n",
       "│ 100      ┆ 1          ┆ 4-1     ┆ a Pque.    ┆ … ┆ 0          ┆ 100SI0004 ┆ 1        ┆ 0         │\n",
       "│          ┆            ┆         ┆ Avellaneda ┆   ┆            ┆           ┆          ┆           │\n",
       "│ 100      ┆ 1          ┆ 5-1     ┆ a Pque.    ┆ … ┆ 0          ┆ 100SI0005 ┆ 1        ┆ 0         │\n",
       "│          ┆            ┆         ┆ Avellaneda ┆   ┆            ┆           ┆          ┆           │\n",
       "└──────────┴────────────┴─────────┴────────────┴───┴────────────┴───────────┴──────────┴───────────┘"
      ]
     },
     "execution_count": 65,
     "metadata": {},
     "output_type": "execute_result"
    }
   ],
   "source": [
    "trips.head()"
   ]
  },
  {
   "cell_type": "markdown",
   "id": "b6ebc585",
   "metadata": {},
   "source": [
    "The number of trips per day for each route can be analyzed using COUNT to later be joined with the `routes` file with each bus information, taking into account inbound and outbound trips as seen in the next example using route 100:"
   ]
  },
  {
   "cell_type": "code",
   "execution_count": 66,
   "id": "96f3df71",
   "metadata": {},
   "outputs": [
    {
     "data": {
      "text/html": [
       "<div><style>\n",
       ".dataframe > thead > tr,\n",
       ".dataframe > tbody > tr {\n",
       "  text-align: right;\n",
       "  white-space: pre-wrap;\n",
       "}\n",
       "</style>\n",
       "<small>shape: (2, 3)</small><table border=\"1\" class=\"dataframe\"><thead><tr><th>route_id</th><th>direction_id</th><th>total_trips</th></tr><tr><td>i64</td><td>i64</td><td>u32</td></tr></thead><tbody><tr><td>100</td><td>0</td><td>366</td></tr><tr><td>100</td><td>1</td><td>364</td></tr></tbody></table></div>"
      ],
      "text/plain": [
       "shape: (2, 3)\n",
       "┌──────────┬──────────────┬─────────────┐\n",
       "│ route_id ┆ direction_id ┆ total_trips │\n",
       "│ ---      ┆ ---          ┆ ---         │\n",
       "│ i64      ┆ i64          ┆ u32         │\n",
       "╞══════════╪══════════════╪═════════════╡\n",
       "│ 100      ┆ 0            ┆ 366         │\n",
       "│ 100      ┆ 1            ┆ 364         │\n",
       "└──────────┴──────────────┴─────────────┘"
      ]
     },
     "execution_count": 66,
     "metadata": {},
     "output_type": "execute_result"
    }
   ],
   "source": [
    "# Note that the number of trips for the inbound and outbound directions is unequal\n",
    "trips.group_by('route_id','direction_id').len('total_trips').filter(pl.col('route_id') == 100)"
   ]
  },
  {
   "cell_type": "code",
   "execution_count": 67,
   "id": "82801bc0",
   "metadata": {},
   "outputs": [],
   "source": [
    "# Instead, the mean can be taken from both\n",
    "mean_trips_per_route = trips. \\\n",
    "    group_by('route_id', 'direction_id'). \\\n",
    "    len('total_trips'). \\\n",
    "    group_by('route_id'). \\\n",
    "    agg(pl.col('total_trips').mean().alias('route_trips')). \\\n",
    "    with_columns(\n",
    "        pl.col('route_trips').round().cast(pl.Int32)\n",
    "    )"
   ]
  },
  {
   "cell_type": "markdown",
   "id": "0e52638c",
   "metadata": {},
   "source": [
    "---\n",
    "### Structure of `routes`"
   ]
  },
  {
   "cell_type": "code",
   "execution_count": 68,
   "id": "ad4d7cb8",
   "metadata": {},
   "outputs": [
    {
     "data": {
      "text/html": [
       "<div><style>\n",
       ".dataframe > thead > tr,\n",
       ".dataframe > tbody > tr {\n",
       "  text-align: right;\n",
       "  white-space: pre-wrap;\n",
       "}\n",
       "</style>\n",
       "<small>shape: (5, 6)</small><table border=\"1\" class=\"dataframe\"><thead><tr><th>route_id</th><th>agency_id</th><th>route_short_name</th><th>route_long_name</th><th>route_desc</th><th>route_type</th></tr><tr><td>i64</td><td>i64</td><td>str</td><td>str</td><td>str</td><td>i64</td></tr></thead><tbody><tr><td>4167</td><td>110</td><td>&quot;505R3&quot;</td><td>&quot;JMALBR505&quot;</td><td>&quot;Ramal 3 - San Francisco Solano…</td><td>3</td></tr><tr><td>4168</td><td>110</td><td>&quot;505R4&quot;</td><td>&quot;JMALBR505&quot;</td><td>&quot;Ramal 4 - San Francisco Solano…</td><td>3</td></tr><tr><td>4169</td><td>110</td><td>&quot;505R5&quot;</td><td>&quot;JMALBR505&quot;</td><td>&quot;Ramal 5 - San Francisco Solano…</td><td>3</td></tr><tr><td>4170</td><td>110</td><td>&quot;505R6&quot;</td><td>&quot;JMALBR505&quot;</td><td>&quot;Ramal 6 - San Francisco Solano…</td><td>3</td></tr><tr><td>4171</td><td>110</td><td>&quot;506R1&quot;</td><td>&quot;JMALBR506&quot;</td><td>&quot;Ramal 1 - Est. Glew - Tapin y …</td><td>3</td></tr></tbody></table></div>"
      ],
      "text/plain": [
       "shape: (5, 6)\n",
       "┌──────────┬───────────┬──────────────────┬─────────────────┬─────────────────────────┬────────────┐\n",
       "│ route_id ┆ agency_id ┆ route_short_name ┆ route_long_name ┆ route_desc              ┆ route_type │\n",
       "│ ---      ┆ ---       ┆ ---              ┆ ---             ┆ ---                     ┆ ---        │\n",
       "│ i64      ┆ i64       ┆ str              ┆ str             ┆ str                     ┆ i64        │\n",
       "╞══════════╪═══════════╪══════════════════╪═════════════════╪═════════════════════════╪════════════╡\n",
       "│ 4167     ┆ 110       ┆ 505R3            ┆ JMALBR505       ┆ Ramal 3 - San Francisco ┆ 3          │\n",
       "│          ┆           ┆                  ┆                 ┆ Solano…                 ┆            │\n",
       "│ 4168     ┆ 110       ┆ 505R4            ┆ JMALBR505       ┆ Ramal 4 - San Francisco ┆ 3          │\n",
       "│          ┆           ┆                  ┆                 ┆ Solano…                 ┆            │\n",
       "│ 4169     ┆ 110       ┆ 505R5            ┆ JMALBR505       ┆ Ramal 5 - San Francisco ┆ 3          │\n",
       "│          ┆           ┆                  ┆                 ┆ Solano…                 ┆            │\n",
       "│ 4170     ┆ 110       ┆ 505R6            ┆ JMALBR505       ┆ Ramal 6 - San Francisco ┆ 3          │\n",
       "│          ┆           ┆                  ┆                 ┆ Solano…                 ┆            │\n",
       "│ 4171     ┆ 110       ┆ 506R1            ┆ JMALBR506       ┆ Ramal 1 - Est. Glew -   ┆ 3          │\n",
       "│          ┆           ┆                  ┆                 ┆ Tapin y …               ┆            │\n",
       "└──────────┴───────────┴──────────────────┴─────────────────┴─────────────────────────┴────────────┘"
      ]
     },
     "execution_count": 68,
     "metadata": {},
     "output_type": "execute_result"
    }
   ],
   "source": [
    "routes.head()"
   ]
  },
  {
   "cell_type": "markdown",
   "id": "684f6c30",
   "metadata": {},
   "source": [
    "To make aggregations over the bus lines without taking into account each route branch (\"ramal\"), the column route_short_name should be used to create a new column with only the bus line number or name, using conditional statements to separate both cases, as seen in the next example:"
   ]
  },
  {
   "cell_type": "code",
   "execution_count": 69,
   "id": "f26c1747",
   "metadata": {},
   "outputs": [],
   "source": [
    "routes = routes.with_columns(\n",
    "    pl.when(pl.col('route_short_name').str.contains(r'^\\d+'))\n",
    "      .then(pl.col('route_short_name').str.extract(r'^(\\d+)', 1))  # Digits before letters\n",
    "      .otherwise(pl.col('route_short_name').str.extract(r'^([A-Za-z]+)', 1)) # Letters at the beginning\n",
    "      .alias('bus_line')\n",
    ")"
   ]
  },
  {
   "cell_type": "markdown",
   "id": "3a9814b6",
   "metadata": {},
   "source": [
    "Then, for example, the count of route branches for each bus line can be calculated and sorted"
   ]
  },
  {
   "cell_type": "code",
   "execution_count": 70,
   "id": "bcffa2c5",
   "metadata": {},
   "outputs": [
    {
     "data": {
      "text/html": [
       "<div><style>\n",
       ".dataframe > thead > tr,\n",
       ".dataframe > tbody > tr {\n",
       "  text-align: right;\n",
       "  white-space: pre-wrap;\n",
       "}\n",
       "</style>\n",
       "<small>shape: (5, 2)</small><table border=\"1\" class=\"dataframe\"><thead><tr><th>bus_line</th><th>branches</th></tr><tr><td>str</td><td>u32</td></tr></thead><tbody><tr><td>&quot;96&quot;</td><td>35</td></tr><tr><td>&quot;60&quot;</td><td>20</td></tr><tr><td>&quot;57&quot;</td><td>19</td></tr><tr><td>&quot;620&quot;</td><td>19</td></tr><tr><td>&quot;129&quot;</td><td>18</td></tr></tbody></table></div>"
      ],
      "text/plain": [
       "shape: (5, 2)\n",
       "┌──────────┬──────────┐\n",
       "│ bus_line ┆ branches │\n",
       "│ ---      ┆ ---      │\n",
       "│ str      ┆ u32      │\n",
       "╞══════════╪══════════╡\n",
       "│ 96       ┆ 35       │\n",
       "│ 60       ┆ 20       │\n",
       "│ 57       ┆ 19       │\n",
       "│ 620      ┆ 19       │\n",
       "│ 129      ┆ 18       │\n",
       "└──────────┴──────────┘"
      ]
     },
     "execution_count": 70,
     "metadata": {},
     "output_type": "execute_result"
    }
   ],
   "source": [
    "routes.group_by('bus_line').len('branches').sort('branches', descending=True).head()"
   ]
  },
  {
   "cell_type": "markdown",
   "id": "6305eb26",
   "metadata": {},
   "source": [
    "---"
   ]
  },
  {
   "cell_type": "markdown",
   "id": "69334503",
   "metadata": {},
   "source": [
    "_The following cell will be useful to measure attributes of routes and bus lines taking into account only one representative trip for each route in both directions_"
   ]
  },
  {
   "cell_type": "code",
   "execution_count": 71,
   "id": "e192e8a2",
   "metadata": {},
   "outputs": [],
   "source": [
    "trip_of_routes = trips. \\\n",
    "    group_by('route_id', 'direction_id'). \\\n",
    "    agg(pl.col('trip_id').first())"
   ]
  },
  {
   "cell_type": "markdown",
   "id": "03abc531",
   "metadata": {},
   "source": [
    "---\n",
    "### Structure of `shapes`"
   ]
  },
  {
   "cell_type": "code",
   "execution_count": 72,
   "id": "90983153",
   "metadata": {},
   "outputs": [
    {
     "data": {
      "text/html": [
       "<div><style>\n",
       ".dataframe > thead > tr,\n",
       ".dataframe > tbody > tr {\n",
       "  text-align: right;\n",
       "  white-space: pre-wrap;\n",
       "}\n",
       "</style>\n",
       "<small>shape: (5, 5)</small><table border=\"1\" class=\"dataframe\"><thead><tr><th>shape_id</th><th>shape_pt_lat</th><th>shape_pt_lon</th><th>shape_pt_sequence</th><th>shape_dist_traveled</th></tr><tr><td>i64</td><td>f64</td><td>f64</td><td>i64</td><td>f64</td></tr></thead><tbody><tr><td>418</td><td>-34.601438</td><td>-58.454088</td><td>53</td><td>3628.46</td></tr><tr><td>418</td><td>-34.602127</td><td>-58.455055</td><td>54</td><td>3745.43</td></tr><tr><td>418</td><td>-34.602792</td><td>-58.455998</td><td>55</td><td>3859.09</td></tr><tr><td>418</td><td>-34.603757</td><td>-58.457437</td><td>56</td><td>4028.91</td></tr><tr><td>418</td><td>-34.604258</td><td>-58.458182</td><td>57</td><td>4117.0</td></tr></tbody></table></div>"
      ],
      "text/plain": [
       "shape: (5, 5)\n",
       "┌──────────┬──────────────┬──────────────┬───────────────────┬─────────────────────┐\n",
       "│ shape_id ┆ shape_pt_lat ┆ shape_pt_lon ┆ shape_pt_sequence ┆ shape_dist_traveled │\n",
       "│ ---      ┆ ---          ┆ ---          ┆ ---               ┆ ---                 │\n",
       "│ i64      ┆ f64          ┆ f64          ┆ i64               ┆ f64                 │\n",
       "╞══════════╪══════════════╪══════════════╪═══════════════════╪═════════════════════╡\n",
       "│ 418      ┆ -34.601438   ┆ -58.454088   ┆ 53                ┆ 3628.46             │\n",
       "│ 418      ┆ -34.602127   ┆ -58.455055   ┆ 54                ┆ 3745.43             │\n",
       "│ 418      ┆ -34.602792   ┆ -58.455998   ┆ 55                ┆ 3859.09             │\n",
       "│ 418      ┆ -34.603757   ┆ -58.457437   ┆ 56                ┆ 4028.91             │\n",
       "│ 418      ┆ -34.604258   ┆ -58.458182   ┆ 57                ┆ 4117.0              │\n",
       "└──────────┴──────────────┴──────────────┴───────────────────┴─────────────────────┘"
      ]
     },
     "execution_count": 72,
     "metadata": {},
     "output_type": "execute_result"
    }
   ],
   "source": [
    "shapes.head()"
   ]
  },
  {
   "cell_type": "markdown",
   "id": "dd4564b7",
   "metadata": {},
   "source": [
    "The total distance completed by each route can be obtained by getting the largest shape_dist_traveled value of the shape_id associated with each trip of a route, as seen in the following example:"
   ]
  },
  {
   "cell_type": "code",
   "execution_count": 73,
   "id": "39a64284",
   "metadata": {},
   "outputs": [
    {
     "data": {
      "text/html": [
       "<div><style>\n",
       ".dataframe > thead > tr,\n",
       ".dataframe > tbody > tr {\n",
       "  text-align: right;\n",
       "  white-space: pre-wrap;\n",
       "}\n",
       "</style>\n",
       "<small>shape: (5, 2)</small><table border=\"1\" class=\"dataframe\"><thead><tr><th>shape_id</th><th>total_dist</th></tr><tr><td>i64</td><td>f64</td></tr></thead><tbody><tr><td>1</td><td>17012.0</td></tr><tr><td>2</td><td>19238.0</td></tr><tr><td>3</td><td>9038.0</td></tr><tr><td>4</td><td>11164.0</td></tr><tr><td>5</td><td>12816.0</td></tr></tbody></table></div>"
      ],
      "text/plain": [
       "shape: (5, 2)\n",
       "┌──────────┬────────────┐\n",
       "│ shape_id ┆ total_dist │\n",
       "│ ---      ┆ ---        │\n",
       "│ i64      ┆ f64        │\n",
       "╞══════════╪════════════╡\n",
       "│ 1        ┆ 17012.0    │\n",
       "│ 2        ┆ 19238.0    │\n",
       "│ 3        ┆ 9038.0     │\n",
       "│ 4        ┆ 11164.0    │\n",
       "│ 5        ┆ 12816.0    │\n",
       "└──────────┴────────────┘"
      ]
     },
     "execution_count": 73,
     "metadata": {},
     "output_type": "execute_result"
    }
   ],
   "source": [
    "total_dist_per_shape = shapes. \\\n",
    "    group_by('shape_id'). \\\n",
    "    agg(pl.col('shape_dist_traveled').max().alias('total_dist'))\n",
    "\n",
    "total_dist_per_shape.sort('shape_id').head()"
   ]
  },
  {
   "cell_type": "markdown",
   "id": "4b768179",
   "metadata": {},
   "source": [
    "This measurement can be later joined with individual representative trips for each route in both directions (`trip_of_routes`), calculating the average from both, and finally be joined with the `routes` table"
   ]
  },
  {
   "cell_type": "code",
   "execution_count": 74,
   "id": "cfd5ab27",
   "metadata": {},
   "outputs": [],
   "source": [
    "total_dist_per_route = total_dist_per_shape. \\\n",
    "    join(trips, 'shape_id'). \\\n",
    "    join(trip_of_routes, 'trip_id'). \\\n",
    "    group_by('route_id'). \\\n",
    "    agg(pl.col('total_dist').mean().alias('total_route_distance'))"
   ]
  },
  {
   "cell_type": "markdown",
   "id": "4cf777ae",
   "metadata": {},
   "source": [
    "---\n",
    "### Structure of `stop_times`"
   ]
  },
  {
   "cell_type": "code",
   "execution_count": 75,
   "id": "5c31d811",
   "metadata": {},
   "outputs": [
    {
     "data": {
      "text/html": [
       "<div><style>\n",
       ".dataframe > thead > tr,\n",
       ".dataframe > tbody > tr {\n",
       "  text-align: right;\n",
       "  white-space: pre-wrap;\n",
       "}\n",
       "</style>\n",
       "<small>shape: (5, 7)</small><table border=\"1\" class=\"dataframe\"><thead><tr><th>trip_id</th><th>arrival_time</th><th>departure_time</th><th>stop_id</th><th>stop_sequence</th><th>timepoint</th><th>shape_dist_traveled</th></tr><tr><td>str</td><td>str</td><td>str</td><td>i64</td><td>i64</td><td>i64</td><td>i64</td></tr></thead><tbody><tr><td>&quot;1-1&quot;</td><td>&quot;00:26:00&quot;</td><td>&quot;00:26:00&quot;</td><td>205696</td><td>1</td><td>1</td><td>0</td></tr><tr><td>&quot;1-1&quot;</td><td>&quot;00:28:00&quot;</td><td>&quot;00:28:00&quot;</td><td>204229</td><td>2</td><td>0</td><td>514</td></tr><tr><td>&quot;1-1&quot;</td><td>&quot;00:29:08&quot;</td><td>&quot;00:29:08&quot;</td><td>204191</td><td>3</td><td>0</td><td>803</td></tr><tr><td>&quot;1-1&quot;</td><td>&quot;00:31:06&quot;</td><td>&quot;00:31:06&quot;</td><td>205517</td><td>4</td><td>0</td><td>1306</td></tr><tr><td>&quot;1-1&quot;</td><td>&quot;00:34:12&quot;</td><td>&quot;00:34:12&quot;</td><td>205528</td><td>5</td><td>0</td><td>2093</td></tr></tbody></table></div>"
      ],
      "text/plain": [
       "shape: (5, 7)\n",
       "┌─────────┬──────────────┬────────────────┬─────────┬───────────────┬───────────┬──────────────────┐\n",
       "│ trip_id ┆ arrival_time ┆ departure_time ┆ stop_id ┆ stop_sequence ┆ timepoint ┆ shape_dist_trave │\n",
       "│ ---     ┆ ---          ┆ ---            ┆ ---     ┆ ---           ┆ ---       ┆ led              │\n",
       "│ str     ┆ str          ┆ str            ┆ i64     ┆ i64           ┆ i64       ┆ ---              │\n",
       "│         ┆              ┆                ┆         ┆               ┆           ┆ i64              │\n",
       "╞═════════╪══════════════╪════════════════╪═════════╪═══════════════╪═══════════╪══════════════════╡\n",
       "│ 1-1     ┆ 00:26:00     ┆ 00:26:00       ┆ 205696  ┆ 1             ┆ 1         ┆ 0                │\n",
       "│ 1-1     ┆ 00:28:00     ┆ 00:28:00       ┆ 204229  ┆ 2             ┆ 0         ┆ 514              │\n",
       "│ 1-1     ┆ 00:29:08     ┆ 00:29:08       ┆ 204191  ┆ 3             ┆ 0         ┆ 803              │\n",
       "│ 1-1     ┆ 00:31:06     ┆ 00:31:06       ┆ 205517  ┆ 4             ┆ 0         ┆ 1306             │\n",
       "│ 1-1     ┆ 00:34:12     ┆ 00:34:12       ┆ 205528  ┆ 5             ┆ 0         ┆ 2093             │\n",
       "└─────────┴──────────────┴────────────────┴─────────┴───────────────┴───────────┴──────────────────┘"
      ]
     },
     "execution_count": 75,
     "metadata": {},
     "output_type": "execute_result"
    }
   ],
   "source": [
    "stop_times.head()"
   ]
  },
  {
   "cell_type": "markdown",
   "id": "450a58dd",
   "metadata": {},
   "source": [
    "It can be seen from the next cell that the number of stops is equal for some trips. This can be due to coincidence or due to the trips belonging to one specific route"
   ]
  },
  {
   "cell_type": "code",
   "execution_count": 76,
   "id": "1e825404",
   "metadata": {},
   "outputs": [
    {
     "data": {
      "text/html": [
       "<div><style>\n",
       ".dataframe > thead > tr,\n",
       ".dataframe > tbody > tr {\n",
       "  text-align: right;\n",
       "  white-space: pre-wrap;\n",
       "}\n",
       "</style>\n",
       "<small>shape: (5, 2)</small><table border=\"1\" class=\"dataframe\"><thead><tr><th>trip_id</th><th>trip_stops</th></tr><tr><td>str</td><td>u32</td></tr></thead><tbody><tr><td>&quot;24876-1&quot;</td><td>2</td></tr><tr><td>&quot;134099-1&quot;</td><td>2</td></tr><tr><td>&quot;316683-1&quot;</td><td>2</td></tr><tr><td>&quot;316714-1&quot;</td><td>2</td></tr><tr><td>&quot;24856-1&quot;</td><td>2</td></tr></tbody></table></div>"
      ],
      "text/plain": [
       "shape: (5, 2)\n",
       "┌──────────┬────────────┐\n",
       "│ trip_id  ┆ trip_stops │\n",
       "│ ---      ┆ ---        │\n",
       "│ str      ┆ u32        │\n",
       "╞══════════╪════════════╡\n",
       "│ 24876-1  ┆ 2          │\n",
       "│ 134099-1 ┆ 2          │\n",
       "│ 316683-1 ┆ 2          │\n",
       "│ 316714-1 ┆ 2          │\n",
       "│ 24856-1  ┆ 2          │\n",
       "└──────────┴────────────┘"
      ]
     },
     "execution_count": 76,
     "metadata": {},
     "output_type": "execute_result"
    }
   ],
   "source": [
    "stops_per_trip = stop_times.group_by('trip_id').len('trip_stops')\n",
    "stops_per_trip.sort('trip_stops').head()"
   ]
  },
  {
   "cell_type": "markdown",
   "id": "8dc7263d",
   "metadata": {},
   "source": [
    "To segregate both cases, the trips are grouped by route_id and direction_id, and only one of them is taken into account to perform aggregation operations over the stops for each route branch and bus line (`trip_of_routes`)"
   ]
  },
  {
   "cell_type": "code",
   "execution_count": 77,
   "id": "a3a5572b",
   "metadata": {},
   "outputs": [],
   "source": [
    "# Note that grouping by direction in trips_of_routes is essential because the stops are different\n",
    "stops_per_trip_by_route = trip_of_routes.join(stops_per_trip, 'trip_id')"
   ]
  },
  {
   "cell_type": "code",
   "execution_count": 78,
   "id": "2c5c605a",
   "metadata": {},
   "outputs": [],
   "source": [
    "stops_per_route = stops_per_trip_by_route. \\\n",
    "    group_by('route_id'). \\\n",
    "    agg(pl.col('trip_stops').sum().alias('route_stops'))\n",
    "\n",
    "stops_per_line = stops_per_route. \\\n",
    "    join(routes, 'route_id'). \\\n",
    "    group_by('bus_line'). \\\n",
    "    agg(pl.col('route_stops').sum().alias('line_stops_sum'), \n",
    "        pl.col('route_stops').mean().alias('line_stops_mean')). \\\n",
    "    with_columns(pl.col('line_stops_mean').round().cast(pl.Int32))"
   ]
  },
  {
   "cell_type": "markdown",
   "id": "266747ac",
   "metadata": {},
   "source": [
    "---\n",
    "### **Taking most parameters into account**"
   ]
  },
  {
   "cell_type": "code",
   "execution_count": 79,
   "id": "26d83842",
   "metadata": {},
   "outputs": [],
   "source": [
    "df = routes. \\\n",
    "    join(total_dist_per_route, 'route_id'). \\\n",
    "    join(stops_per_route, 'route_id'). \\\n",
    "    join(stops_per_line, 'bus_line'). \\\n",
    "    join(mean_trips_per_route, 'route_id'). \\\n",
    "    with_columns(\n",
    "        pl.col('route_id').count().over('bus_line').alias('bus_routes')\n",
    "    )"
   ]
  },
  {
   "cell_type": "code",
   "execution_count": 80,
   "id": "07c0f0a5",
   "metadata": {},
   "outputs": [],
   "source": [
    "df = df.select('route_id','bus_line','bus_routes','route_short_name','route_trips',\n",
    "               'route_stops','total_route_distance','line_stops_sum','line_stops_mean','agency_id')"
   ]
  },
  {
   "cell_type": "code",
   "execution_count": 81,
   "id": "0d57f7d7",
   "metadata": {},
   "outputs": [
    {
     "data": {
      "text/html": [
       "<div><style>\n",
       ".dataframe > thead > tr,\n",
       ".dataframe > tbody > tr {\n",
       "  text-align: right;\n",
       "  white-space: pre-wrap;\n",
       "}\n",
       "</style>\n",
       "<small>shape: (2, 10)</small><table border=\"1\" class=\"dataframe\"><thead><tr><th>route_id</th><th>bus_line</th><th>bus_routes</th><th>route_short_name</th><th>route_trips</th><th>route_stops</th><th>total_route_distance</th><th>line_stops_sum</th><th>line_stops_mean</th><th>agency_id</th></tr><tr><td>i64</td><td>str</td><td>u32</td><td>str</td><td>i32</td><td>u32</td><td>f64</td><td>u32</td><td>i32</td><td>i64</td></tr></thead><tbody><tr><td>143</td><td>&quot;130&quot;</td><td>2</td><td>&quot;130A&quot;</td><td>588</td><td>139</td><td>28579.5</td><td>280</td><td>140</td><td>32</td></tr><tr><td>144</td><td>&quot;130&quot;</td><td>2</td><td>&quot;130B&quot;</td><td>420</td><td>141</td><td>29636.5</td><td>280</td><td>140</td><td>32</td></tr></tbody></table></div>"
      ],
      "text/plain": [
       "shape: (2, 10)\n",
       "┌──────────┬──────────┬────────────┬───────────┬───┬───────────┬───────────┬───────────┬───────────┐\n",
       "│ route_id ┆ bus_line ┆ bus_routes ┆ route_sho ┆ … ┆ total_rou ┆ line_stop ┆ line_stop ┆ agency_id │\n",
       "│ ---      ┆ ---      ┆ ---        ┆ rt_name   ┆   ┆ te_distan ┆ s_sum     ┆ s_mean    ┆ ---       │\n",
       "│ i64      ┆ str      ┆ u32        ┆ ---       ┆   ┆ ce        ┆ ---       ┆ ---       ┆ i64       │\n",
       "│          ┆          ┆            ┆ str       ┆   ┆ ---       ┆ u32       ┆ i32       ┆           │\n",
       "│          ┆          ┆            ┆           ┆   ┆ f64       ┆           ┆           ┆           │\n",
       "╞══════════╪══════════╪════════════╪═══════════╪═══╪═══════════╪═══════════╪═══════════╪═══════════╡\n",
       "│ 143      ┆ 130      ┆ 2          ┆ 130A      ┆ … ┆ 28579.5   ┆ 280       ┆ 140       ┆ 32        │\n",
       "│ 144      ┆ 130      ┆ 2          ┆ 130B      ┆ … ┆ 29636.5   ┆ 280       ┆ 140       ┆ 32        │\n",
       "└──────────┴──────────┴────────────┴───────────┴───┴───────────┴───────────┴───────────┴───────────┘"
      ]
     },
     "execution_count": 81,
     "metadata": {},
     "output_type": "execute_result"
    }
   ],
   "source": [
    "# Resulting DataFrame example filtering by bus_line, matching line 130\n",
    "df.filter(pl.col('bus_line') == '130')"
   ]
  }
 ],
 "metadata": {
  "kernelspec": {
   "display_name": "venv",
   "language": "python",
   "name": "python3"
  },
  "language_info": {
   "codemirror_mode": {
    "name": "ipython",
    "version": 3
   },
   "file_extension": ".py",
   "mimetype": "text/x-python",
   "name": "python",
   "nbconvert_exporter": "python",
   "pygments_lexer": "ipython3",
   "version": "3.12.5"
  }
 },
 "nbformat": 4,
 "nbformat_minor": 5
}
