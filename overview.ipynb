{
 "cells": [
  {
   "cell_type": "markdown",
   "id": "187d1f07",
   "metadata": {},
   "source": [
    "## Exploratory analysis of the Buenos Aires GTFS for buses\n",
    "---"
   ]
  },
  {
   "cell_type": "code",
   "execution_count": 134,
   "id": "032b481f",
   "metadata": {},
   "outputs": [],
   "source": [
    "import polars as pl"
   ]
  },
  {
   "cell_type": "code",
   "execution_count": 135,
   "id": "aa9d48c8",
   "metadata": {},
   "outputs": [],
   "source": [
    "import glob\n",
    "import os"
   ]
  },
  {
   "cell_type": "code",
   "execution_count": 40,
   "id": "e9ad77f4",
   "metadata": {},
   "outputs": [],
   "source": [
    "calendar_dates = pl.read_csv(os.path.join('source','calendar_dates.txt'))\n",
    "trips = pl.read_csv(os.path.join('source','trips.txt'))\n",
    "routes = pl.read_csv(os.path.join('source','routes.txt'))\n",
    "shapes = pl.read_csv(os.path.join('source','shapes.txt'))\n",
    "stop_times = pl.read_csv(os.path.join('source','stop_times.txt'))\n",
    "agency = pl.read_csv(os.path.join('source','agency.txt'))"
   ]
  },
  {
   "cell_type": "markdown",
   "id": "22ca9baf",
   "metadata": {},
   "source": [
    "**Searching for null values in each DataFrame**"
   ]
  },
  {
   "cell_type": "code",
   "execution_count": 41,
   "id": "5698feba",
   "metadata": {},
   "outputs": [],
   "source": [
    "path = os.path.join('source', '*.txt')\n",
    "files = [os.path.basename(f)[0:-4] for f in glob.glob(path)] # Delete extension from the file names through splitting"
   ]
  },
  {
   "cell_type": "code",
   "execution_count": 42,
   "id": "3af89490",
   "metadata": {},
   "outputs": [
    {
     "name": "stdout",
     "output_type": "stream",
     "text": [
      "0 null values in the table AGENCY\n",
      "0 null values in the table CALENDAR_DATES\n",
      "0 null values in the table ROUTES\n",
      "0 null values in the table SHAPES\n",
      "0 null values in the table STOP_TIMES\n",
      "0 null values in the table TRIPS\n"
     ]
    }
   ],
   "source": [
    "for table in files:\n",
    "    nulls = 0\n",
    "    columns = globals()[table].get_columns()\n",
    "    for col in columns:\n",
    "        nulls += col.is_null().sum()\n",
    "    print(f'{nulls} null values in the table {table.upper()}')"
   ]
  },
  {
   "cell_type": "markdown",
   "id": "6435f4f5",
   "metadata": {},
   "source": [
    "---\n",
    "### Structure of `calendar_dates`"
   ]
  },
  {
   "cell_type": "code",
   "execution_count": 81,
   "id": "a2e6920e",
   "metadata": {},
   "outputs": [
    {
     "data": {
      "text/html": [
       "<div><style>\n",
       ".dataframe > thead > tr,\n",
       ".dataframe > tbody > tr {\n",
       "  text-align: right;\n",
       "  white-space: pre-wrap;\n",
       "}\n",
       "</style>\n",
       "<small>shape: (95, 6)</small><table border=\"1\" class=\"dataframe\"><thead><tr><th>service_id</th><th>date</th><th>exception_type</th><th>year</th><th>month</th><th>day</th></tr><tr><td>i64</td><td>str</td><td>i64</td><td>i32</td><td>i8</td><td>i8</td></tr></thead><tbody><tr><td>1</td><td>&quot;20190928&quot;</td><td>1</td><td>2019</td><td>9</td><td>28</td></tr><tr><td>2</td><td>&quot;20190929&quot;</td><td>1</td><td>2019</td><td>9</td><td>29</td></tr><tr><td>3</td><td>&quot;20190930&quot;</td><td>1</td><td>2019</td><td>9</td><td>30</td></tr><tr><td>3</td><td>&quot;20191001&quot;</td><td>1</td><td>2019</td><td>10</td><td>1</td></tr><tr><td>3</td><td>&quot;20191002&quot;</td><td>1</td><td>2019</td><td>10</td><td>2</td></tr><tr><td>&hellip;</td><td>&hellip;</td><td>&hellip;</td><td>&hellip;</td><td>&hellip;</td><td>&hellip;</td></tr><tr><td>3</td><td>&quot;20191227&quot;</td><td>1</td><td>2019</td><td>12</td><td>27</td></tr><tr><td>1</td><td>&quot;20191228&quot;</td><td>1</td><td>2019</td><td>12</td><td>28</td></tr><tr><td>2</td><td>&quot;20191229&quot;</td><td>1</td><td>2019</td><td>12</td><td>29</td></tr><tr><td>3</td><td>&quot;20191230&quot;</td><td>1</td><td>2019</td><td>12</td><td>30</td></tr><tr><td>1</td><td>&quot;20191231&quot;</td><td>1</td><td>2019</td><td>12</td><td>31</td></tr></tbody></table></div>"
      ],
      "text/plain": [
       "shape: (95, 6)\n",
       "┌────────────┬──────────┬────────────────┬──────┬───────┬─────┐\n",
       "│ service_id ┆ date     ┆ exception_type ┆ year ┆ month ┆ day │\n",
       "│ ---        ┆ ---      ┆ ---            ┆ ---  ┆ ---   ┆ --- │\n",
       "│ i64        ┆ str      ┆ i64            ┆ i32  ┆ i8    ┆ i8  │\n",
       "╞════════════╪══════════╪════════════════╪══════╪═══════╪═════╡\n",
       "│ 1          ┆ 20190928 ┆ 1              ┆ 2019 ┆ 9     ┆ 28  │\n",
       "│ 2          ┆ 20190929 ┆ 1              ┆ 2019 ┆ 9     ┆ 29  │\n",
       "│ 3          ┆ 20190930 ┆ 1              ┆ 2019 ┆ 9     ┆ 30  │\n",
       "│ 3          ┆ 20191001 ┆ 1              ┆ 2019 ┆ 10    ┆ 1   │\n",
       "│ 3          ┆ 20191002 ┆ 1              ┆ 2019 ┆ 10    ┆ 2   │\n",
       "│ …          ┆ …        ┆ …              ┆ …    ┆ …     ┆ …   │\n",
       "│ 3          ┆ 20191227 ┆ 1              ┆ 2019 ┆ 12    ┆ 27  │\n",
       "│ 1          ┆ 20191228 ┆ 1              ┆ 2019 ┆ 12    ┆ 28  │\n",
       "│ 2          ┆ 20191229 ┆ 1              ┆ 2019 ┆ 12    ┆ 29  │\n",
       "│ 3          ┆ 20191230 ┆ 1              ┆ 2019 ┆ 12    ┆ 30  │\n",
       "│ 1          ┆ 20191231 ┆ 1              ┆ 2019 ┆ 12    ┆ 31  │\n",
       "└────────────┴──────────┴────────────────┴──────┴───────┴─────┘"
      ]
     },
     "execution_count": 81,
     "metadata": {},
     "output_type": "execute_result"
    }
   ],
   "source": [
    "calendar_dates"
   ]
  },
  {
   "cell_type": "markdown",
   "id": "a01c5ba7",
   "metadata": {},
   "source": [
    "There are **4 types** of services attached to each trip, with service 3 being the one with most days associated "
   ]
  },
  {
   "cell_type": "code",
   "execution_count": 44,
   "id": "5d4a051f",
   "metadata": {},
   "outputs": [
    {
     "data": {
      "text/html": [
       "<div><style>\n",
       ".dataframe > thead > tr,\n",
       ".dataframe > tbody > tr {\n",
       "  text-align: right;\n",
       "  white-space: pre-wrap;\n",
       "}\n",
       "</style>\n",
       "<small>shape: (4, 2)</small><table border=\"1\" class=\"dataframe\"><thead><tr><th>service_id</th><th>total_days</th></tr><tr><td>i64</td><td>u32</td></tr></thead><tbody><tr><td>3</td><td>63</td></tr><tr><td>1</td><td>15</td></tr><tr><td>2</td><td>13</td></tr><tr><td>4</td><td>4</td></tr></tbody></table></div>"
      ],
      "text/plain": [
       "shape: (4, 2)\n",
       "┌────────────┬────────────┐\n",
       "│ service_id ┆ total_days │\n",
       "│ ---        ┆ ---        │\n",
       "│ i64        ┆ u32        │\n",
       "╞════════════╪════════════╡\n",
       "│ 3          ┆ 63         │\n",
       "│ 1          ┆ 15         │\n",
       "│ 2          ┆ 13         │\n",
       "│ 4          ┆ 4          │\n",
       "└────────────┴────────────┘"
      ]
     },
     "execution_count": 44,
     "metadata": {},
     "output_type": "execute_result"
    }
   ],
   "source": [
    "calendar_dates.group_by('service_id').len('total_days').sort('total_days', descending=True)"
   ]
  },
  {
   "cell_type": "code",
   "execution_count": 45,
   "id": "c1e305cb",
   "metadata": {},
   "outputs": [],
   "source": [
    "# Cast 'date' column to str\n",
    "calendar_dates = calendar_dates.with_columns(\n",
    "    pl.col('date').cast(pl.Utf8)\n",
    ")"
   ]
  },
  {
   "cell_type": "code",
   "execution_count": 46,
   "id": "493ee05b",
   "metadata": {},
   "outputs": [],
   "source": [
    "# Partition the 'date' column into year, month and day columns\n",
    "calendar_dates = calendar_dates.with_columns([\n",
    "    pl.col('date').str.strptime(pl.Date, '%Y%m%d').dt.year().alias('year'),\n",
    "    pl.col('date').str.strptime(pl.Date, '%Y%m%d').dt.month().alias('month'),\n",
    "    pl.col('date').str.strptime(pl.Date, '%Y%m%d').dt.day().alias('day')\n",
    "])"
   ]
  },
  {
   "cell_type": "markdown",
   "id": "4ac1f2da",
   "metadata": {},
   "source": [
    "Comparing the list of days for each month in each service in the `services_calendar` DataFrame with the Argentinian national calendar, the following attributes of each service type can be inferred:\n",
    "\n",
    "* Service 1 is for saturdays and holiday vespers\n",
    "* Service 2 is for sundays\n",
    "* Service 3 is for weekdays\n",
    "* Service 4 is for holidays"
   ]
  },
  {
   "cell_type": "code",
   "execution_count": 47,
   "id": "d964ef53",
   "metadata": {},
   "outputs": [],
   "source": [
    "services_calendar = (\n",
    "    calendar_dates\n",
    "    .group_by(['service_id', 'year', 'month'])\n",
    "    .agg(pl.col('day').alias('days'))\n",
    "    .sort(['service_id', 'year', 'month'])\n",
    ")"
   ]
  },
  {
   "cell_type": "markdown",
   "id": "2002830d",
   "metadata": {},
   "source": [
    "Let's take for example service 4"
   ]
  },
  {
   "cell_type": "code",
   "execution_count": 48,
   "id": "7f1f4b1d",
   "metadata": {},
   "outputs": [
    {
     "data": {
      "text/html": [
       "<div><style>\n",
       ".dataframe > thead > tr,\n",
       ".dataframe > tbody > tr {\n",
       "  text-align: right;\n",
       "  white-space: pre-wrap;\n",
       "}\n",
       "</style>\n",
       "<small>shape: (3, 4)</small><table border=\"1\" class=\"dataframe\"><thead><tr><th>service_id</th><th>year</th><th>month</th><th>days</th></tr><tr><td>i64</td><td>i32</td><td>i8</td><td>list[i8]</td></tr></thead><tbody><tr><td>4</td><td>2019</td><td>10</td><td>[12]</td></tr><tr><td>4</td><td>2019</td><td>11</td><td>[18]</td></tr><tr><td>4</td><td>2019</td><td>12</td><td>[8, 25]</td></tr></tbody></table></div>"
      ],
      "text/plain": [
       "shape: (3, 4)\n",
       "┌────────────┬──────┬───────┬──────────┐\n",
       "│ service_id ┆ year ┆ month ┆ days     │\n",
       "│ ---        ┆ ---  ┆ ---   ┆ ---      │\n",
       "│ i64        ┆ i32  ┆ i8    ┆ list[i8] │\n",
       "╞════════════╪══════╪═══════╪══════════╡\n",
       "│ 4          ┆ 2019 ┆ 10    ┆ [12]     │\n",
       "│ 4          ┆ 2019 ┆ 11    ┆ [18]     │\n",
       "│ 4          ┆ 2019 ┆ 12    ┆ [8, 25]  │\n",
       "└────────────┴──────┴───────┴──────────┘"
      ]
     },
     "execution_count": 48,
     "metadata": {},
     "output_type": "execute_result"
    }
   ],
   "source": [
    "# Here, each day for each month is a national holiday in Argentina for the given year\n",
    "services_calendar.filter(pl.col('service_id') == 4)"
   ]
  },
  {
   "cell_type": "markdown",
   "id": "ad7b9bf9",
   "metadata": {},
   "source": [
    "---\n",
    "### Structure of `trips`"
   ]
  },
  {
   "cell_type": "code",
   "execution_count": 80,
   "id": "6a15c9cc",
   "metadata": {},
   "outputs": [
    {
     "data": {
      "text/html": [
       "<div><style>\n",
       ".dataframe > thead > tr,\n",
       ".dataframe > tbody > tr {\n",
       "  text-align: right;\n",
       "  white-space: pre-wrap;\n",
       "}\n",
       "</style>\n",
       "<small>shape: (436_407, 9)</small><table border=\"1\" class=\"dataframe\"><thead><tr><th>route_id</th><th>service_id</th><th>trip_id</th><th>trip_headsign</th><th>trip_short_name</th><th>direction_id</th><th>block_id</th><th>shape_id</th><th>exceptional</th></tr><tr><td>i64</td><td>i64</td><td>str</td><td>str</td><td>str</td><td>i64</td><td>str</td><td>i64</td><td>i64</td></tr></thead><tbody><tr><td>100</td><td>1</td><td>&quot;1-1&quot;</td><td>&quot;a Pque. Avellaneda&quot;</td><td>&quot;100SI0001&quot;</td><td>0</td><td>&quot;100SI0001&quot;</td><td>1</td><td>0</td></tr><tr><td>100</td><td>1</td><td>&quot;2-1&quot;</td><td>&quot;a Pque. Avellaneda&quot;</td><td>&quot;100SI0002&quot;</td><td>0</td><td>&quot;100SI0002&quot;</td><td>1</td><td>0</td></tr><tr><td>100</td><td>1</td><td>&quot;3-1&quot;</td><td>&quot;a Pque. Avellaneda&quot;</td><td>&quot;100SI0003&quot;</td><td>0</td><td>&quot;100SI0003&quot;</td><td>1</td><td>0</td></tr><tr><td>100</td><td>1</td><td>&quot;4-1&quot;</td><td>&quot;a Pque. Avellaneda&quot;</td><td>&quot;100SI0004&quot;</td><td>0</td><td>&quot;100SI0004&quot;</td><td>1</td><td>0</td></tr><tr><td>100</td><td>1</td><td>&quot;5-1&quot;</td><td>&quot;a Pque. Avellaneda&quot;</td><td>&quot;100SI0005&quot;</td><td>0</td><td>&quot;100SI0005&quot;</td><td>1</td><td>0</td></tr><tr><td>&hellip;</td><td>&hellip;</td><td>&hellip;</td><td>&hellip;</td><td>&hellip;</td><td>&hellip;</td><td>&hellip;</td><td>&hellip;</td><td>&hellip;</td></tr><tr><td>99</td><td>4</td><td>&quot;436403-1&quot;</td><td>&quot;a Pza. Miserere&quot;</td><td>&quot;99FI1038&quot;</td><td>1</td><td>&quot;99FI1038&quot;</td><td>2066</td><td>0</td></tr><tr><td>99</td><td>4</td><td>&quot;436404-1&quot;</td><td>&quot;a Pza. Miserere&quot;</td><td>&quot;99FI1039&quot;</td><td>1</td><td>&quot;99FI1039&quot;</td><td>2066</td><td>0</td></tr><tr><td>99</td><td>4</td><td>&quot;436405-1&quot;</td><td>&quot;a Pza. Miserere&quot;</td><td>&quot;99FI1040&quot;</td><td>1</td><td>&quot;99FI1040&quot;</td><td>2066</td><td>0</td></tr><tr><td>99</td><td>4</td><td>&quot;436406-1&quot;</td><td>&quot;a Pza. Miserere&quot;</td><td>&quot;99FI1041&quot;</td><td>1</td><td>&quot;99FI1041&quot;</td><td>2066</td><td>0</td></tr><tr><td>99</td><td>4</td><td>&quot;436407-1&quot;</td><td>&quot;a Pza. Miserere&quot;</td><td>&quot;99FI1042&quot;</td><td>1</td><td>&quot;99FI1042&quot;</td><td>2066</td><td>0</td></tr></tbody></table></div>"
      ],
      "text/plain": [
       "shape: (436_407, 9)\n",
       "┌──────────┬────────────┬──────────┬────────────┬───┬───────────┬───────────┬──────────┬───────────┐\n",
       "│ route_id ┆ service_id ┆ trip_id  ┆ trip_heads ┆ … ┆ direction ┆ block_id  ┆ shape_id ┆ exception │\n",
       "│ ---      ┆ ---        ┆ ---      ┆ ign        ┆   ┆ _id       ┆ ---       ┆ ---      ┆ al        │\n",
       "│ i64      ┆ i64        ┆ str      ┆ ---        ┆   ┆ ---       ┆ str       ┆ i64      ┆ ---       │\n",
       "│          ┆            ┆          ┆ str        ┆   ┆ i64       ┆           ┆          ┆ i64       │\n",
       "╞══════════╪════════════╪══════════╪════════════╪═══╪═══════════╪═══════════╪══════════╪═══════════╡\n",
       "│ 100      ┆ 1          ┆ 1-1      ┆ a Pque.    ┆ … ┆ 0         ┆ 100SI0001 ┆ 1        ┆ 0         │\n",
       "│          ┆            ┆          ┆ Avellaneda ┆   ┆           ┆           ┆          ┆           │\n",
       "│ 100      ┆ 1          ┆ 2-1      ┆ a Pque.    ┆ … ┆ 0         ┆ 100SI0002 ┆ 1        ┆ 0         │\n",
       "│          ┆            ┆          ┆ Avellaneda ┆   ┆           ┆           ┆          ┆           │\n",
       "│ 100      ┆ 1          ┆ 3-1      ┆ a Pque.    ┆ … ┆ 0         ┆ 100SI0003 ┆ 1        ┆ 0         │\n",
       "│          ┆            ┆          ┆ Avellaneda ┆   ┆           ┆           ┆          ┆           │\n",
       "│ 100      ┆ 1          ┆ 4-1      ┆ a Pque.    ┆ … ┆ 0         ┆ 100SI0004 ┆ 1        ┆ 0         │\n",
       "│          ┆            ┆          ┆ Avellaneda ┆   ┆           ┆           ┆          ┆           │\n",
       "│ 100      ┆ 1          ┆ 5-1      ┆ a Pque.    ┆ … ┆ 0         ┆ 100SI0005 ┆ 1        ┆ 0         │\n",
       "│          ┆            ┆          ┆ Avellaneda ┆   ┆           ┆           ┆          ┆           │\n",
       "│ …        ┆ …          ┆ …        ┆ …          ┆ … ┆ …         ┆ …         ┆ …        ┆ …         │\n",
       "│ 99       ┆ 4          ┆ 436403-1 ┆ a Pza.     ┆ … ┆ 1         ┆ 99FI1038  ┆ 2066     ┆ 0         │\n",
       "│          ┆            ┆          ┆ Miserere   ┆   ┆           ┆           ┆          ┆           │\n",
       "│ 99       ┆ 4          ┆ 436404-1 ┆ a Pza.     ┆ … ┆ 1         ┆ 99FI1039  ┆ 2066     ┆ 0         │\n",
       "│          ┆            ┆          ┆ Miserere   ┆   ┆           ┆           ┆          ┆           │\n",
       "│ 99       ┆ 4          ┆ 436405-1 ┆ a Pza.     ┆ … ┆ 1         ┆ 99FI1040  ┆ 2066     ┆ 0         │\n",
       "│          ┆            ┆          ┆ Miserere   ┆   ┆           ┆           ┆          ┆           │\n",
       "│ 99       ┆ 4          ┆ 436406-1 ┆ a Pza.     ┆ … ┆ 1         ┆ 99FI1041  ┆ 2066     ┆ 0         │\n",
       "│          ┆            ┆          ┆ Miserere   ┆   ┆           ┆           ┆          ┆           │\n",
       "│ 99       ┆ 4          ┆ 436407-1 ┆ a Pza.     ┆ … ┆ 1         ┆ 99FI1042  ┆ 2066     ┆ 0         │\n",
       "│          ┆            ┆          ┆ Miserere   ┆   ┆           ┆           ┆          ┆           │\n",
       "└──────────┴────────────┴──────────┴────────────┴───┴───────────┴───────────┴──────────┴───────────┘"
      ]
     },
     "execution_count": 80,
     "metadata": {},
     "output_type": "execute_result"
    }
   ],
   "source": [
    "trips"
   ]
  },
  {
   "cell_type": "markdown",
   "id": "b6ebc585",
   "metadata": {},
   "source": [
    "The number of trips per day for each route can be analyzed using COUNT to later be joined with the `routes` file with each bus information, taking into account inbound and outbound trips as seen in the next example using route 100"
   ]
  },
  {
   "cell_type": "code",
   "execution_count": 50,
   "id": "96f3df71",
   "metadata": {},
   "outputs": [
    {
     "data": {
      "text/html": [
       "<div><style>\n",
       ".dataframe > thead > tr,\n",
       ".dataframe > tbody > tr {\n",
       "  text-align: right;\n",
       "  white-space: pre-wrap;\n",
       "}\n",
       "</style>\n",
       "<small>shape: (2, 3)</small><table border=\"1\" class=\"dataframe\"><thead><tr><th>route_id</th><th>direction_id</th><th>total_trips</th></tr><tr><td>i64</td><td>i64</td><td>u32</td></tr></thead><tbody><tr><td>100</td><td>1</td><td>364</td></tr><tr><td>100</td><td>0</td><td>366</td></tr></tbody></table></div>"
      ],
      "text/plain": [
       "shape: (2, 3)\n",
       "┌──────────┬──────────────┬─────────────┐\n",
       "│ route_id ┆ direction_id ┆ total_trips │\n",
       "│ ---      ┆ ---          ┆ ---         │\n",
       "│ i64      ┆ i64          ┆ u32         │\n",
       "╞══════════╪══════════════╪═════════════╡\n",
       "│ 100      ┆ 1            ┆ 364         │\n",
       "│ 100      ┆ 0            ┆ 366         │\n",
       "└──────────┴──────────────┴─────────────┘"
      ]
     },
     "execution_count": 50,
     "metadata": {},
     "output_type": "execute_result"
    }
   ],
   "source": [
    "# Note that the number of trips for the inbound and outbound directions is unequal\n",
    "trips.group_by('route_id','direction_id').len('total_trips').filter(pl.col('route_id') == 100)"
   ]
  },
  {
   "cell_type": "code",
   "execution_count": 51,
   "id": "82801bc0",
   "metadata": {},
   "outputs": [],
   "source": [
    "# Instead, the mean can be taken from both\n",
    "mean_trips_per_route = (\n",
    "    trips\n",
    "    .group_by('route_id', 'direction_id')\n",
    "    .len('total_trips')\n",
    "    .group_by('route_id')\n",
    "    .agg(pl.col('total_trips').mean().alias('route_trips'))\n",
    "    .with_columns(\n",
    "        pl.col('route_trips').round().cast(pl.Int32)\n",
    "    )\n",
    ")"
   ]
  },
  {
   "cell_type": "code",
   "execution_count": 52,
   "id": "97b3506b",
   "metadata": {},
   "outputs": [
    {
     "data": {
      "text/html": [
       "<div><style>\n",
       ".dataframe > thead > tr,\n",
       ".dataframe > tbody > tr {\n",
       "  text-align: right;\n",
       "  white-space: pre-wrap;\n",
       "}\n",
       "</style>\n",
       "<small>shape: (1, 2)</small><table border=\"1\" class=\"dataframe\"><thead><tr><th>route_id</th><th>route_trips</th></tr><tr><td>i64</td><td>i32</td></tr></thead><tbody><tr><td>100</td><td>365</td></tr></tbody></table></div>"
      ],
      "text/plain": [
       "shape: (1, 2)\n",
       "┌──────────┬─────────────┐\n",
       "│ route_id ┆ route_trips │\n",
       "│ ---      ┆ ---         │\n",
       "│ i64      ┆ i32         │\n",
       "╞══════════╪═════════════╡\n",
       "│ 100      ┆ 365         │\n",
       "└──────────┴─────────────┘"
      ]
     },
     "execution_count": 52,
     "metadata": {},
     "output_type": "execute_result"
    }
   ],
   "source": [
    "mean_trips_per_route.filter(pl.col('route_id') == 100)"
   ]
  },
  {
   "cell_type": "markdown",
   "id": "65a347d5",
   "metadata": {},
   "source": [
    "Given the difference in attributes between directions and even services (as seen in `stop_times`), the following cells will be useful to measure attributes of routes and bus lines taking into account only one representative trip for each route in both directions or in both directions within each service"
   ]
  },
  {
   "cell_type": "markdown",
   "id": "dce8e4a8",
   "metadata": {},
   "source": [
    "**TRIP-CASE-1**"
   ]
  },
  {
   "cell_type": "code",
   "execution_count": 53,
   "id": "8cc0c44e",
   "metadata": {},
   "outputs": [],
   "source": [
    "service_trip_of_routes = (\n",
    "    trips\n",
    "    .group_by('route_id', 'service_id', 'direction_id', 'shape_id')\n",
    "    .agg(pl.col('trip_id').first())\n",
    ")"
   ]
  },
  {
   "cell_type": "markdown",
   "id": "9620db75",
   "metadata": {},
   "source": [
    "**TRIP-CASE-2**"
   ]
  },
  {
   "cell_type": "code",
   "execution_count": 54,
   "id": "4639f8dd",
   "metadata": {},
   "outputs": [],
   "source": [
    "trip_of_routes = (\n",
    "    service_trip_of_routes\n",
    "    .group_by('route_id', 'direction_id', 'shape_id')\n",
    "    .agg(pl.col('trip_id').first())\n",
    ")"
   ]
  },
  {
   "cell_type": "markdown",
   "id": "53a976eb",
   "metadata": {},
   "source": [
    "_TRIP-CASE-1 would already satisfy the requirements for both cases when computing means between values dependent on services and directions or solely dependent on directions, but the latter scenario would imply redundant operations which can slower down the overall performance, so TRIP-CASE-2 is created from TRIP-CASE-1 to minimize compute times since grouping by service, in those cases, is not necessary_"
   ]
  },
  {
   "cell_type": "markdown",
   "id": "0e52638c",
   "metadata": {},
   "source": [
    "---\n",
    "### Structure of `routes`"
   ]
  },
  {
   "cell_type": "code",
   "execution_count": 82,
   "id": "ad4d7cb8",
   "metadata": {},
   "outputs": [
    {
     "data": {
      "text/html": [
       "<div><style>\n",
       ".dataframe > thead > tr,\n",
       ".dataframe > tbody > tr {\n",
       "  text-align: right;\n",
       "  white-space: pre-wrap;\n",
       "}\n",
       "</style>\n",
       "<small>shape: (1_052, 6)</small><table border=\"1\" class=\"dataframe\"><thead><tr><th>route_id</th><th>agency_id</th><th>route_short_name</th><th>route_long_name</th><th>route_desc</th><th>route_type</th></tr><tr><td>i64</td><td>i64</td><td>str</td><td>str</td><td>str</td><td>i64</td></tr></thead><tbody><tr><td>4167</td><td>110</td><td>&quot;505R3&quot;</td><td>&quot;JMALBR505&quot;</td><td>&quot;Ramal 3 - San Francisco Solano…</td><td>3</td></tr><tr><td>4168</td><td>110</td><td>&quot;505R4&quot;</td><td>&quot;JMALBR505&quot;</td><td>&quot;Ramal 4 - San Francisco Solano…</td><td>3</td></tr><tr><td>4169</td><td>110</td><td>&quot;505R5&quot;</td><td>&quot;JMALBR505&quot;</td><td>&quot;Ramal 5 - San Francisco Solano…</td><td>3</td></tr><tr><td>4170</td><td>110</td><td>&quot;505R6&quot;</td><td>&quot;JMALBR505&quot;</td><td>&quot;Ramal 6 - San Francisco Solano…</td><td>3</td></tr><tr><td>4171</td><td>110</td><td>&quot;506R1&quot;</td><td>&quot;JMALBR506&quot;</td><td>&quot;Ramal 1 - Est. Glew - Tapin y …</td><td>3</td></tr><tr><td>&hellip;</td><td>&hellip;</td><td>&hellip;</td><td>&hellip;</td><td>&hellip;</td><td>&hellip;</td></tr><tr><td>1478</td><td>115</td><td>&quot;463D&quot;</td><td>&quot;JPBSAS463&quot;</td><td>&quot;x Ruben Dario&quot;</td><td>3</td></tr><tr><td>1482</td><td>115</td><td>&quot;464D&quot;</td><td>&quot;JPBSAS464&quot;</td><td>&quot;Ramal D - Felix Frias&quot;</td><td>3</td></tr><tr><td>1479</td><td>115</td><td>&quot;464A&quot;</td><td>&quot;JPBSAS464&quot;</td><td>&quot;Ramal x Cinturon Ecologico&quot;</td><td>3</td></tr><tr><td>1481</td><td>115</td><td>&quot;464C&quot;</td><td>&quot;JPBSAS464&quot;</td><td>&quot;Ramalizacion x San Damian&quot;</td><td>3</td></tr><tr><td>1480</td><td>115</td><td>&quot;464B&quot;</td><td>&quot;JPBSAS464&quot;</td><td>&quot;Troncal x Martin Fierro&quot;</td><td>3</td></tr></tbody></table></div>"
      ],
      "text/plain": [
       "shape: (1_052, 6)\n",
       "┌──────────┬───────────┬──────────────────┬─────────────────┬─────────────────────────┬────────────┐\n",
       "│ route_id ┆ agency_id ┆ route_short_name ┆ route_long_name ┆ route_desc              ┆ route_type │\n",
       "│ ---      ┆ ---       ┆ ---              ┆ ---             ┆ ---                     ┆ ---        │\n",
       "│ i64      ┆ i64       ┆ str              ┆ str             ┆ str                     ┆ i64        │\n",
       "╞══════════╪═══════════╪══════════════════╪═════════════════╪═════════════════════════╪════════════╡\n",
       "│ 4167     ┆ 110       ┆ 505R3            ┆ JMALBR505       ┆ Ramal 3 - San Francisco ┆ 3          │\n",
       "│          ┆           ┆                  ┆                 ┆ Solano…                 ┆            │\n",
       "│ 4168     ┆ 110       ┆ 505R4            ┆ JMALBR505       ┆ Ramal 4 - San Francisco ┆ 3          │\n",
       "│          ┆           ┆                  ┆                 ┆ Solano…                 ┆            │\n",
       "│ 4169     ┆ 110       ┆ 505R5            ┆ JMALBR505       ┆ Ramal 5 - San Francisco ┆ 3          │\n",
       "│          ┆           ┆                  ┆                 ┆ Solano…                 ┆            │\n",
       "│ 4170     ┆ 110       ┆ 505R6            ┆ JMALBR505       ┆ Ramal 6 - San Francisco ┆ 3          │\n",
       "│          ┆           ┆                  ┆                 ┆ Solano…                 ┆            │\n",
       "│ 4171     ┆ 110       ┆ 506R1            ┆ JMALBR506       ┆ Ramal 1 - Est. Glew -   ┆ 3          │\n",
       "│          ┆           ┆                  ┆                 ┆ Tapin y …               ┆            │\n",
       "│ …        ┆ …         ┆ …                ┆ …               ┆ …                       ┆ …          │\n",
       "│ 1478     ┆ 115       ┆ 463D             ┆ JPBSAS463       ┆ x Ruben Dario           ┆ 3          │\n",
       "│ 1482     ┆ 115       ┆ 464D             ┆ JPBSAS464       ┆ Ramal D - Felix Frias   ┆ 3          │\n",
       "│ 1479     ┆ 115       ┆ 464A             ┆ JPBSAS464       ┆ Ramal x Cinturon        ┆ 3          │\n",
       "│          ┆           ┆                  ┆                 ┆ Ecologico               ┆            │\n",
       "│ 1481     ┆ 115       ┆ 464C             ┆ JPBSAS464       ┆ Ramalizacion x San      ┆ 3          │\n",
       "│          ┆           ┆                  ┆                 ┆ Damian                  ┆            │\n",
       "│ 1480     ┆ 115       ┆ 464B             ┆ JPBSAS464       ┆ Troncal x Martin Fierro ┆ 3          │\n",
       "└──────────┴───────────┴──────────────────┴─────────────────┴─────────────────────────┴────────────┘"
      ]
     },
     "execution_count": 82,
     "metadata": {},
     "output_type": "execute_result"
    }
   ],
   "source": [
    "routes"
   ]
  },
  {
   "cell_type": "markdown",
   "id": "684f6c30",
   "metadata": {},
   "source": [
    "To make aggregations over the bus lines without taking into account each route branch (\"ramal\"), the column route_short_name should be used to create a derived column with only the bus line name. As seen from the next cell, outlier values are found where bus names are completely alphabetic and not numeric as the mayority of cases"
   ]
  },
  {
   "cell_type": "code",
   "execution_count": 56,
   "id": "cf8489b8",
   "metadata": {},
   "outputs": [
    {
     "data": {
      "text/html": [
       "<div><style>\n",
       ".dataframe > thead > tr,\n",
       ".dataframe > tbody > tr {\n",
       "  text-align: right;\n",
       "  white-space: pre-wrap;\n",
       "}\n",
       "</style>\n",
       "<small>shape: (5, 1)</small><table border=\"1\" class=\"dataframe\"><thead><tr><th>route_short_name</th></tr><tr><td>str</td></tr></thead><tbody><tr><td>&quot;AZUL1&quot;</td></tr><tr><td>&quot;AZUL2&quot;</td></tr><tr><td>&quot;ROJA&quot;</td></tr><tr><td>&quot;VERDE&quot;</td></tr><tr><td>&quot;NORTE12&quot;</td></tr></tbody></table></div>"
      ],
      "text/plain": [
       "shape: (5, 1)\n",
       "┌──────────────────┐\n",
       "│ route_short_name │\n",
       "│ ---              │\n",
       "│ str              │\n",
       "╞══════════════════╡\n",
       "│ AZUL1            │\n",
       "│ AZUL2            │\n",
       "│ ROJA             │\n",
       "│ VERDE            │\n",
       "│ NORTE12          │\n",
       "└──────────────────┘"
      ]
     },
     "execution_count": 56,
     "metadata": {},
     "output_type": "execute_result"
    }
   ],
   "source": [
    "routes.filter(pl.col('route_short_name').str.contains(r'^([A-Z]+)')).select('route_short_name').head()"
   ]
  },
  {
   "cell_type": "code",
   "execution_count": 57,
   "id": "fb638a3d",
   "metadata": {},
   "outputs": [
    {
     "data": {
      "text/html": [
       "<div><style>\n",
       ".dataframe > thead > tr,\n",
       ".dataframe > tbody > tr {\n",
       "  text-align: right;\n",
       "  white-space: pre-wrap;\n",
       "}\n",
       "</style>\n",
       "<small>shape: (2, 2)</small><table border=\"1\" class=\"dataframe\"><thead><tr><th>letters_first</th><th>route_id</th></tr><tr><td>bool</td><td>u32</td></tr></thead><tbody><tr><td>false</td><td>1034</td></tr><tr><td>true</td><td>18</td></tr></tbody></table></div>"
      ],
      "text/plain": [
       "shape: (2, 2)\n",
       "┌───────────────┬──────────┐\n",
       "│ letters_first ┆ route_id │\n",
       "│ ---           ┆ ---      │\n",
       "│ bool          ┆ u32      │\n",
       "╞═══════════════╪══════════╡\n",
       "│ false         ┆ 1034     │\n",
       "│ true          ┆ 18       │\n",
       "└───────────────┴──────────┘"
      ]
     },
     "execution_count": 57,
     "metadata": {},
     "output_type": "execute_result"
    }
   ],
   "source": [
    "# It is seen that the alphabetic values are scarce along the dataset\n",
    "routes.with_columns(\n",
    "    pl.col('route_short_name')\n",
    "    .str.contains(r'^([A-Z]+)')\n",
    "    .alias('letters_first')\n",
    ").group_by('letters_first').len('route_id')"
   ]
  },
  {
   "cell_type": "markdown",
   "id": "1d3926c8",
   "metadata": {},
   "source": [
    "Conditional statements can be used both in SQL and in `polars` to separate both cases as following"
   ]
  },
  {
   "cell_type": "code",
   "execution_count": 58,
   "id": "f26c1747",
   "metadata": {},
   "outputs": [],
   "source": [
    "routes_with_buses = (\n",
    "    routes.\n",
    "    with_columns(\n",
    "        pl.when(pl.col('route_short_name').str.contains(r'^\\d+'))\n",
    "        .then(pl.col('route_short_name').str.extract(r'^(\\d+)', 1))  # Digits before letters\n",
    "        .otherwise(pl.col('route_short_name').str.extract(r'^([A-Z]+)', 1)) # Letters at the beginning\n",
    "        .alias('bus_line')\n",
    "    )\n",
    ")"
   ]
  },
  {
   "cell_type": "markdown",
   "id": "3a9814b6",
   "metadata": {},
   "source": [
    "Then, for example, the count of route branches for each bus line can be calculated and sorted"
   ]
  },
  {
   "cell_type": "code",
   "execution_count": 59,
   "id": "bcffa2c5",
   "metadata": {},
   "outputs": [
    {
     "data": {
      "text/html": [
       "<div><style>\n",
       ".dataframe > thead > tr,\n",
       ".dataframe > tbody > tr {\n",
       "  text-align: right;\n",
       "  white-space: pre-wrap;\n",
       "}\n",
       "</style>\n",
       "<small>shape: (5, 2)</small><table border=\"1\" class=\"dataframe\"><thead><tr><th>bus_line</th><th>branches</th></tr><tr><td>str</td><td>u32</td></tr></thead><tbody><tr><td>&quot;96&quot;</td><td>35</td></tr><tr><td>&quot;60&quot;</td><td>20</td></tr><tr><td>&quot;620&quot;</td><td>19</td></tr><tr><td>&quot;57&quot;</td><td>19</td></tr><tr><td>&quot;129&quot;</td><td>18</td></tr></tbody></table></div>"
      ],
      "text/plain": [
       "shape: (5, 2)\n",
       "┌──────────┬──────────┐\n",
       "│ bus_line ┆ branches │\n",
       "│ ---      ┆ ---      │\n",
       "│ str      ┆ u32      │\n",
       "╞══════════╪══════════╡\n",
       "│ 96       ┆ 35       │\n",
       "│ 60       ┆ 20       │\n",
       "│ 620      ┆ 19       │\n",
       "│ 57       ┆ 19       │\n",
       "│ 129      ┆ 18       │\n",
       "└──────────┴──────────┘"
      ]
     },
     "execution_count": 59,
     "metadata": {},
     "output_type": "execute_result"
    }
   ],
   "source": [
    "routes_with_buses.group_by('bus_line').len('branches').sort('branches', descending=True).head()"
   ]
  },
  {
   "cell_type": "markdown",
   "id": "03abc531",
   "metadata": {},
   "source": [
    "---\n",
    "### Structure of `shapes`"
   ]
  },
  {
   "cell_type": "code",
   "execution_count": 83,
   "id": "90983153",
   "metadata": {},
   "outputs": [
    {
     "data": {
      "text/html": [
       "<div><style>\n",
       ".dataframe > thead > tr,\n",
       ".dataframe > tbody > tr {\n",
       "  text-align: right;\n",
       "  white-space: pre-wrap;\n",
       "}\n",
       "</style>\n",
       "<small>shape: (755_816, 5)</small><table border=\"1\" class=\"dataframe\"><thead><tr><th>shape_id</th><th>shape_pt_lat</th><th>shape_pt_lon</th><th>shape_pt_sequence</th><th>shape_dist_traveled</th></tr><tr><td>i64</td><td>f64</td><td>f64</td><td>i64</td><td>f64</td></tr></thead><tbody><tr><td>418</td><td>-34.601438</td><td>-58.454088</td><td>53</td><td>3628.46</td></tr><tr><td>418</td><td>-34.602127</td><td>-58.455055</td><td>54</td><td>3745.43</td></tr><tr><td>418</td><td>-34.602792</td><td>-58.455998</td><td>55</td><td>3859.09</td></tr><tr><td>418</td><td>-34.603757</td><td>-58.457437</td><td>56</td><td>4028.91</td></tr><tr><td>418</td><td>-34.604258</td><td>-58.458182</td><td>57</td><td>4117.0</td></tr><tr><td>&hellip;</td><td>&hellip;</td><td>&hellip;</td><td>&hellip;</td><td>&hellip;</td></tr><tr><td>2017</td><td>-34.545957</td><td>-58.489405</td><td>176</td><td>12126.9</td></tr><tr><td>2017</td><td>-34.545477</td><td>-58.488467</td><td>177</td><td>12228.0</td></tr><tr><td>2017</td><td>-34.545328</td><td>-58.488163</td><td>178</td><td>12260.2</td></tr><tr><td>2017</td><td>-34.544985</td><td>-58.48752</td><td>179</td><td>12330.2</td></tr><tr><td>2017</td><td>-34.544492</td><td>-58.486597</td><td>180</td><td>12430.7</td></tr></tbody></table></div>"
      ],
      "text/plain": [
       "shape: (755_816, 5)\n",
       "┌──────────┬──────────────┬──────────────┬───────────────────┬─────────────────────┐\n",
       "│ shape_id ┆ shape_pt_lat ┆ shape_pt_lon ┆ shape_pt_sequence ┆ shape_dist_traveled │\n",
       "│ ---      ┆ ---          ┆ ---          ┆ ---               ┆ ---                 │\n",
       "│ i64      ┆ f64          ┆ f64          ┆ i64               ┆ f64                 │\n",
       "╞══════════╪══════════════╪══════════════╪═══════════════════╪═════════════════════╡\n",
       "│ 418      ┆ -34.601438   ┆ -58.454088   ┆ 53                ┆ 3628.46             │\n",
       "│ 418      ┆ -34.602127   ┆ -58.455055   ┆ 54                ┆ 3745.43             │\n",
       "│ 418      ┆ -34.602792   ┆ -58.455998   ┆ 55                ┆ 3859.09             │\n",
       "│ 418      ┆ -34.603757   ┆ -58.457437   ┆ 56                ┆ 4028.91             │\n",
       "│ 418      ┆ -34.604258   ┆ -58.458182   ┆ 57                ┆ 4117.0              │\n",
       "│ …        ┆ …            ┆ …            ┆ …                 ┆ …                   │\n",
       "│ 2017     ┆ -34.545957   ┆ -58.489405   ┆ 176               ┆ 12126.9             │\n",
       "│ 2017     ┆ -34.545477   ┆ -58.488467   ┆ 177               ┆ 12228.0             │\n",
       "│ 2017     ┆ -34.545328   ┆ -58.488163   ┆ 178               ┆ 12260.2             │\n",
       "│ 2017     ┆ -34.544985   ┆ -58.48752    ┆ 179               ┆ 12330.2             │\n",
       "│ 2017     ┆ -34.544492   ┆ -58.486597   ┆ 180               ┆ 12430.7             │\n",
       "└──────────┴──────────────┴──────────────┴───────────────────┴─────────────────────┘"
      ]
     },
     "execution_count": 83,
     "metadata": {},
     "output_type": "execute_result"
    }
   ],
   "source": [
    "shapes"
   ]
  },
  {
   "cell_type": "markdown",
   "id": "dd4564b7",
   "metadata": {},
   "source": [
    "The overall distance completed by each route can be obtained by getting the largest shape_dist_traveled value of the shape_id associated with each representative trip of a route by direction through trip_of_routes (TRIP-CASE-2), as seen in the following example"
   ]
  },
  {
   "cell_type": "code",
   "execution_count": 61,
   "id": "39a64284",
   "metadata": {},
   "outputs": [],
   "source": [
    "total_dist_per_trip = (\n",
    "    shapes\n",
    "    .group_by('shape_id')\n",
    "    .agg(pl.col('shape_dist_traveled').max().alias('trip_distance'))\n",
    "    .join(trip_of_routes, 'shape_id') # It has to be an INNER join\n",
    ")"
   ]
  },
  {
   "cell_type": "code",
   "execution_count": 62,
   "id": "5a6d9f05",
   "metadata": {},
   "outputs": [
    {
     "data": {
      "text/html": [
       "<div><style>\n",
       ".dataframe > thead > tr,\n",
       ".dataframe > tbody > tr {\n",
       "  text-align: right;\n",
       "  white-space: pre-wrap;\n",
       "}\n",
       "</style>\n",
       "<small>shape: (5, 5)</small><table border=\"1\" class=\"dataframe\"><thead><tr><th>shape_id</th><th>trip_distance</th><th>route_id</th><th>direction_id</th><th>trip_id</th></tr><tr><td>i64</td><td>f64</td><td>i64</td><td>i64</td><td>str</td></tr></thead><tbody><tr><td>211</td><td>15907.0</td><td>12</td><td>1</td><td>&quot;123551-1&quot;</td></tr><tr><td>210</td><td>16437.0</td><td>12</td><td>0</td><td>&quot;12074-1&quot;</td></tr><tr><td>1702</td><td>19215.0</td><td>44</td><td>1</td><td>&quot;419921-1&quot;</td></tr><tr><td>1701</td><td>21325.0</td><td>44</td><td>0</td><td>&quot;419831-1&quot;</td></tr><tr><td>1715</td><td>26395.0</td><td>45</td><td>0</td><td>&quot;324005-1&quot;</td></tr></tbody></table></div>"
      ],
      "text/plain": [
       "shape: (5, 5)\n",
       "┌──────────┬───────────────┬──────────┬──────────────┬──────────┐\n",
       "│ shape_id ┆ trip_distance ┆ route_id ┆ direction_id ┆ trip_id  │\n",
       "│ ---      ┆ ---           ┆ ---      ┆ ---          ┆ ---      │\n",
       "│ i64      ┆ f64           ┆ i64      ┆ i64          ┆ str      │\n",
       "╞══════════╪═══════════════╪══════════╪══════════════╪══════════╡\n",
       "│ 211      ┆ 15907.0       ┆ 12       ┆ 1            ┆ 123551-1 │\n",
       "│ 210      ┆ 16437.0       ┆ 12       ┆ 0            ┆ 12074-1  │\n",
       "│ 1702     ┆ 19215.0       ┆ 44       ┆ 1            ┆ 419921-1 │\n",
       "│ 1701     ┆ 21325.0       ┆ 44       ┆ 0            ┆ 419831-1 │\n",
       "│ 1715     ┆ 26395.0       ┆ 45       ┆ 0            ┆ 324005-1 │\n",
       "└──────────┴───────────────┴──────────┴──────────────┴──────────┘"
      ]
     },
     "execution_count": 62,
     "metadata": {},
     "output_type": "execute_result"
    }
   ],
   "source": [
    "total_dist_per_trip.sort('route_id').head()"
   ]
  },
  {
   "cell_type": "markdown",
   "id": "4b768179",
   "metadata": {},
   "source": [
    "Then, the average is computed from both directions, grouped by route_id, and can be ultimately joined with the `routes` table"
   ]
  },
  {
   "cell_type": "code",
   "execution_count": 63,
   "id": "cfd5ab27",
   "metadata": {},
   "outputs": [
    {
     "data": {
      "text/html": [
       "<div><style>\n",
       ".dataframe > thead > tr,\n",
       ".dataframe > tbody > tr {\n",
       "  text-align: right;\n",
       "  white-space: pre-wrap;\n",
       "}\n",
       "</style>\n",
       "<small>shape: (5, 2)</small><table border=\"1\" class=\"dataframe\"><thead><tr><th>route_id</th><th>route_avg_distance</th></tr><tr><td>i64</td><td>f64</td></tr></thead><tbody><tr><td>2519</td><td>29490.0</td></tr><tr><td>3695</td><td>19941.0</td></tr><tr><td>1590</td><td>12594.0</td></tr><tr><td>1206</td><td>38329.0</td></tr><tr><td>2507</td><td>23258.0</td></tr></tbody></table></div>"
      ],
      "text/plain": [
       "shape: (5, 2)\n",
       "┌──────────┬────────────────────┐\n",
       "│ route_id ┆ route_avg_distance │\n",
       "│ ---      ┆ ---                │\n",
       "│ i64      ┆ f64                │\n",
       "╞══════════╪════════════════════╡\n",
       "│ 2519     ┆ 29490.0            │\n",
       "│ 3695     ┆ 19941.0            │\n",
       "│ 1590     ┆ 12594.0            │\n",
       "│ 1206     ┆ 38329.0            │\n",
       "│ 2507     ┆ 23258.0            │\n",
       "└──────────┴────────────────────┘"
      ]
     },
     "execution_count": 63,
     "metadata": {},
     "output_type": "execute_result"
    }
   ],
   "source": [
    "total_dist_per_trip. \\\n",
    "    group_by('route_id'). \\\n",
    "    agg(pl.col('trip_distance').mean().round().alias('route_avg_distance')). \\\n",
    "    head()"
   ]
  },
  {
   "cell_type": "markdown",
   "id": "4cf777ae",
   "metadata": {},
   "source": [
    "---\n",
    "### Structure of `stop_times`"
   ]
  },
  {
   "cell_type": "code",
   "execution_count": 84,
   "id": "5c31d811",
   "metadata": {},
   "outputs": [
    {
     "data": {
      "text/html": [
       "<div><style>\n",
       ".dataframe > thead > tr,\n",
       ".dataframe > tbody > tr {\n",
       "  text-align: right;\n",
       "  white-space: pre-wrap;\n",
       "}\n",
       "</style>\n",
       "<small>shape: (29_278_726, 7)</small><table border=\"1\" class=\"dataframe\"><thead><tr><th>trip_id</th><th>arrival_time</th><th>departure_time</th><th>stop_id</th><th>stop_sequence</th><th>timepoint</th><th>shape_dist_traveled</th></tr><tr><td>str</td><td>str</td><td>str</td><td>i64</td><td>i64</td><td>i64</td><td>i64</td></tr></thead><tbody><tr><td>&quot;1-1&quot;</td><td>&quot;00:26:00&quot;</td><td>&quot;00:26:00&quot;</td><td>205696</td><td>1</td><td>1</td><td>0</td></tr><tr><td>&quot;1-1&quot;</td><td>&quot;00:28:00&quot;</td><td>&quot;00:28:00&quot;</td><td>204229</td><td>2</td><td>0</td><td>514</td></tr><tr><td>&quot;1-1&quot;</td><td>&quot;00:29:08&quot;</td><td>&quot;00:29:08&quot;</td><td>204191</td><td>3</td><td>0</td><td>803</td></tr><tr><td>&quot;1-1&quot;</td><td>&quot;00:31:06&quot;</td><td>&quot;00:31:06&quot;</td><td>205517</td><td>4</td><td>0</td><td>1306</td></tr><tr><td>&quot;1-1&quot;</td><td>&quot;00:34:12&quot;</td><td>&quot;00:34:12&quot;</td><td>205528</td><td>5</td><td>0</td><td>2093</td></tr><tr><td>&hellip;</td><td>&hellip;</td><td>&hellip;</td><td>&hellip;</td><td>&hellip;</td><td>&hellip;</td><td>&hellip;</td></tr><tr><td>&quot;436407-1&quot;</td><td>&quot;28:56:40&quot;</td><td>&quot;28:56:40&quot;</td><td>204910</td><td>24</td><td>0</td><td>86746</td></tr><tr><td>&quot;436407-1&quot;</td><td>&quot;28:58:24&quot;</td><td>&quot;28:58:24&quot;</td><td>201247</td><td>25</td><td>0</td><td>87960</td></tr><tr><td>&quot;436407-1&quot;</td><td>&quot;29:00:36&quot;</td><td>&quot;29:00:36&quot;</td><td>203260</td><td>26</td><td>0</td><td>89480</td></tr><tr><td>&quot;436407-1&quot;</td><td>&quot;29:01:14&quot;</td><td>&quot;29:01:14&quot;</td><td>205882</td><td>27</td><td>0</td><td>89924</td></tr><tr><td>&quot;436407-1&quot;</td><td>&quot;29:03:00&quot;</td><td>&quot;29:03:00&quot;</td><td>204510</td><td>28</td><td>1</td><td>91131</td></tr></tbody></table></div>"
      ],
      "text/plain": [
       "shape: (29_278_726, 7)\n",
       "┌──────────┬──────────────┬────────────────┬─────────┬───────────────┬───────────┬─────────────────┐\n",
       "│ trip_id  ┆ arrival_time ┆ departure_time ┆ stop_id ┆ stop_sequence ┆ timepoint ┆ shape_dist_trav │\n",
       "│ ---      ┆ ---          ┆ ---            ┆ ---     ┆ ---           ┆ ---       ┆ eled            │\n",
       "│ str      ┆ str          ┆ str            ┆ i64     ┆ i64           ┆ i64       ┆ ---             │\n",
       "│          ┆              ┆                ┆         ┆               ┆           ┆ i64             │\n",
       "╞══════════╪══════════════╪════════════════╪═════════╪═══════════════╪═══════════╪═════════════════╡\n",
       "│ 1-1      ┆ 00:26:00     ┆ 00:26:00       ┆ 205696  ┆ 1             ┆ 1         ┆ 0               │\n",
       "│ 1-1      ┆ 00:28:00     ┆ 00:28:00       ┆ 204229  ┆ 2             ┆ 0         ┆ 514             │\n",
       "│ 1-1      ┆ 00:29:08     ┆ 00:29:08       ┆ 204191  ┆ 3             ┆ 0         ┆ 803             │\n",
       "│ 1-1      ┆ 00:31:06     ┆ 00:31:06       ┆ 205517  ┆ 4             ┆ 0         ┆ 1306            │\n",
       "│ 1-1      ┆ 00:34:12     ┆ 00:34:12       ┆ 205528  ┆ 5             ┆ 0         ┆ 2093            │\n",
       "│ …        ┆ …            ┆ …              ┆ …       ┆ …             ┆ …         ┆ …               │\n",
       "│ 436407-1 ┆ 28:56:40     ┆ 28:56:40       ┆ 204910  ┆ 24            ┆ 0         ┆ 86746           │\n",
       "│ 436407-1 ┆ 28:58:24     ┆ 28:58:24       ┆ 201247  ┆ 25            ┆ 0         ┆ 87960           │\n",
       "│ 436407-1 ┆ 29:00:36     ┆ 29:00:36       ┆ 203260  ┆ 26            ┆ 0         ┆ 89480           │\n",
       "│ 436407-1 ┆ 29:01:14     ┆ 29:01:14       ┆ 205882  ┆ 27            ┆ 0         ┆ 89924           │\n",
       "│ 436407-1 ┆ 29:03:00     ┆ 29:03:00       ┆ 204510  ┆ 28            ┆ 1         ┆ 91131           │\n",
       "└──────────┴──────────────┴────────────────┴─────────┴───────────────┴───────────┴─────────────────┘"
      ]
     },
     "execution_count": 84,
     "metadata": {},
     "output_type": "execute_result"
    }
   ],
   "source": [
    "stop_times"
   ]
  },
  {
   "cell_type": "markdown",
   "id": "450a58dd",
   "metadata": {},
   "source": [
    "It can be seen from the second cell that the number of stops is equal for some trips. This can be due to coincidence or due to the trips belonging to one specific route"
   ]
  },
  {
   "cell_type": "code",
   "execution_count": 143,
   "id": "1e825404",
   "metadata": {},
   "outputs": [],
   "source": [
    "stops_per_trip = stop_times.group_by('trip_id').len('trip_stops')"
   ]
  },
  {
   "cell_type": "code",
   "execution_count": 144,
   "id": "b5046a73",
   "metadata": {},
   "outputs": [
    {
     "data": {
      "text/html": [
       "<div><style>\n",
       ".dataframe > thead > tr,\n",
       ".dataframe > tbody > tr {\n",
       "  text-align: right;\n",
       "  white-space: pre-wrap;\n",
       "}\n",
       "</style>\n",
       "<small>shape: (5, 2)</small><table border=\"1\" class=\"dataframe\"><thead><tr><th>trip_id</th><th>trip_stops</th></tr><tr><td>str</td><td>u32</td></tr></thead><tbody><tr><td>&quot;42633-1&quot;</td><td>222</td></tr><tr><td>&quot;388197-1&quot;</td><td>222</td></tr><tr><td>&quot;149288-1&quot;</td><td>222</td></tr><tr><td>&quot;42647-1&quot;</td><td>222</td></tr><tr><td>&quot;388165-1&quot;</td><td>222</td></tr></tbody></table></div>"
      ],
      "text/plain": [
       "shape: (5, 2)\n",
       "┌──────────┬────────────┐\n",
       "│ trip_id  ┆ trip_stops │\n",
       "│ ---      ┆ ---        │\n",
       "│ str      ┆ u32        │\n",
       "╞══════════╪════════════╡\n",
       "│ 42633-1  ┆ 222        │\n",
       "│ 388197-1 ┆ 222        │\n",
       "│ 149288-1 ┆ 222        │\n",
       "│ 42647-1  ┆ 222        │\n",
       "│ 388165-1 ┆ 222        │\n",
       "└──────────┴────────────┘"
      ]
     },
     "execution_count": 144,
     "metadata": {},
     "output_type": "execute_result"
    }
   ],
   "source": [
    "stops_per_trip.sort('trip_stops', descending=True).head()"
   ]
  },
  {
   "cell_type": "markdown",
   "id": "8dc7263d",
   "metadata": {},
   "source": [
    "To segregate both cases, one individual trip is taken for each direction_id of each route_id through trip_of_routes (TRIP-CASE-2), also enabling computing the overall number of stops per route"
   ]
  },
  {
   "cell_type": "code",
   "execution_count": 75,
   "id": "a3a5572b",
   "metadata": {},
   "outputs": [
    {
     "data": {
      "text/html": [
       "<div><style>\n",
       ".dataframe > thead > tr,\n",
       ".dataframe > tbody > tr {\n",
       "  text-align: right;\n",
       "  white-space: pre-wrap;\n",
       "}\n",
       "</style>\n",
       "<small>shape: (5, 5)</small><table border=\"1\" class=\"dataframe\"><thead><tr><th>route_id</th><th>direction_id</th><th>shape_id</th><th>trip_id</th><th>trip_stops</th></tr><tr><td>i64</td><td>i64</td><td>i64</td><td>str</td><td>u32</td></tr></thead><tbody><tr><td>12</td><td>1</td><td>211</td><td>&quot;123551-1&quot;</td><td>95</td></tr><tr><td>12</td><td>0</td><td>210</td><td>&quot;12074-1&quot;</td><td>103</td></tr><tr><td>44</td><td>1</td><td>1702</td><td>&quot;419921-1&quot;</td><td>62</td></tr><tr><td>44</td><td>0</td><td>1701</td><td>&quot;419831-1&quot;</td><td>61</td></tr><tr><td>45</td><td>1</td><td>1716</td><td>&quot;190223-1&quot;</td><td>64</td></tr></tbody></table></div>"
      ],
      "text/plain": [
       "shape: (5, 5)\n",
       "┌──────────┬──────────────┬──────────┬──────────┬────────────┐\n",
       "│ route_id ┆ direction_id ┆ shape_id ┆ trip_id  ┆ trip_stops │\n",
       "│ ---      ┆ ---          ┆ ---      ┆ ---      ┆ ---        │\n",
       "│ i64      ┆ i64          ┆ i64      ┆ str      ┆ u32        │\n",
       "╞══════════╪══════════════╪══════════╪══════════╪════════════╡\n",
       "│ 12       ┆ 1            ┆ 211      ┆ 123551-1 ┆ 95         │\n",
       "│ 12       ┆ 0            ┆ 210      ┆ 12074-1  ┆ 103        │\n",
       "│ 44       ┆ 1            ┆ 1702     ┆ 419921-1 ┆ 62         │\n",
       "│ 44       ┆ 0            ┆ 1701     ┆ 419831-1 ┆ 61         │\n",
       "│ 45       ┆ 1            ┆ 1716     ┆ 190223-1 ┆ 64         │\n",
       "└──────────┴──────────────┴──────────┴──────────┴────────────┘"
      ]
     },
     "execution_count": 75,
     "metadata": {},
     "output_type": "execute_result"
    }
   ],
   "source": [
    "trip_of_routes.join(stops_per_trip, 'trip_id').sort('route_id').head()"
   ]
  },
  {
   "cell_type": "markdown",
   "id": "03924f60",
   "metadata": {},
   "source": [
    "Then, the average is computed from both directions, grouped by route_id, and can be ultimately joined with the `routes` table"
   ]
  },
  {
   "cell_type": "code",
   "execution_count": 67,
   "id": "2c5c605a",
   "metadata": {},
   "outputs": [
    {
     "data": {
      "text/html": [
       "<div><style>\n",
       ".dataframe > thead > tr,\n",
       ".dataframe > tbody > tr {\n",
       "  text-align: right;\n",
       "  white-space: pre-wrap;\n",
       "}\n",
       "</style>\n",
       "<small>shape: (5, 2)</small><table border=\"1\" class=\"dataframe\"><thead><tr><th>route_id</th><th>route_avg_stops</th></tr><tr><td>i64</td><td>f64</td></tr></thead><tbody><tr><td>2906</td><td>14.0</td></tr><tr><td>143</td><td>70.0</td></tr><tr><td>2909</td><td>68.0</td></tr><tr><td>1736</td><td>92.0</td></tr><tr><td>1727</td><td>40.0</td></tr></tbody></table></div>"
      ],
      "text/plain": [
       "shape: (5, 2)\n",
       "┌──────────┬─────────────────┐\n",
       "│ route_id ┆ route_avg_stops │\n",
       "│ ---      ┆ ---             │\n",
       "│ i64      ┆ f64             │\n",
       "╞══════════╪═════════════════╡\n",
       "│ 2906     ┆ 14.0            │\n",
       "│ 143      ┆ 70.0            │\n",
       "│ 2909     ┆ 68.0            │\n",
       "│ 1736     ┆ 92.0            │\n",
       "│ 1727     ┆ 40.0            │\n",
       "└──────────┴─────────────────┘"
      ]
     },
     "execution_count": 67,
     "metadata": {},
     "output_type": "execute_result"
    }
   ],
   "source": [
    "trip_of_routes. \\\n",
    "    join(stops_per_trip, 'trip_id'). \\\n",
    "    group_by('route_id'). \\\n",
    "    agg(pl.col('trip_stops').mean().round().alias('route_avg_stops')). \\\n",
    "    head()"
   ]
  },
  {
   "cell_type": "markdown",
   "id": "a23556bb",
   "metadata": {},
   "source": [
    "On the other hand, the times used in arrival_time and departure_time exceed the 24 hour system, using hour measures such as 26, 32, etc. To handle this issue properly when calculating total trip times, the minimum and the maximum times should be lexicographically taken from this column using the original format and the operation must be done:\n",
    "* Subtracting 24 hours to both times if **both** have hour digits higher or equal to 24 or...\n",
    "* Subtracting 12 hours to both times if **only the end time** has hour digits higher or equal to 24"
   ]
  },
  {
   "cell_type": "markdown",
   "id": "cfabee34",
   "metadata": {},
   "source": [
    "The next functions are built so that both cases can be treated with them either in individual cases (1) or within the whole dataset (2) using the library's built-in function `map_elements`, which for this demo satisfies the requirements but is not recommended for big DataFrames (see [polars.Expr.map_elements](https://docs.pola.rs/api/python/dev/reference/expressions/api/polars.Expr.map_elements.html))"
   ]
  },
  {
   "cell_type": "markdown",
   "id": "f4b1e3c3",
   "metadata": {},
   "source": [
    "**FUNCTION 1**"
   ]
  },
  {
   "cell_type": "code",
   "execution_count": null,
   "id": "2e574ad5",
   "metadata": {},
   "outputs": [],
   "source": [
    "def format_gtfs_time(time: str, offset: int = 24) -> str:\n",
    "    \"\"\"\n",
    "    Format a GTFS time with hour values ranging from '00' up to '47' \n",
    "    into a standard value within the 24-hour system.\n",
    "\n",
    "    Args:\n",
    "        time: The original GTFS time value as a 'HH:MM:SS' string.\n",
    "        offset: The offset by which the hour digits will be shifted \n",
    "                counterclockwise. The default value is by 24 hours, but\n",
    "                smaller units can be passed only for exceptional scenarios\n",
    "                where times with both normal or abnormal hour measures\n",
    "                should be shifted equally.\n",
    "\n",
    "    Returns:\n",
    "        str: A value ranging from 00:00:00 to 23:59:59 included.\n",
    "    \"\"\"\n",
    "    if offset < 25:\n",
    "        hour = int(time[:2])\n",
    "        rest = time[2:]\n",
    "        \n",
    "        if hour >= 24 or offset != 24:\n",
    "            hour -= offset\n",
    "        new_time = '0' + str(hour) + rest\n",
    "        return new_time[-8:]\n",
    "    else:\n",
    "        raise Exception('Offset should be less or equal than 24 hours')"
   ]
  },
  {
   "cell_type": "markdown",
   "id": "d5c8d161",
   "metadata": {},
   "source": [
    "**FUNCTION 2**"
   ]
  },
  {
   "cell_type": "code",
   "execution_count": 117,
   "id": "13fd5045",
   "metadata": {},
   "outputs": [],
   "source": [
    "from datetime import datetime"
   ]
  },
  {
   "cell_type": "code",
   "execution_count": 160,
   "id": "59167d88",
   "metadata": {},
   "outputs": [],
   "source": [
    "def gtfs_time_difference(start_time: str, end_time: str) -> int:\n",
    "    \"\"\"\n",
    "    Get the time difference between two GTFS times in minutes, \n",
    "    previously formatting both within the 24-hour system given\n",
    "    two scenarios:\n",
    "    \n",
    "    - Both have hour digits higher or equal to 24\n",
    "    - Only the end time has hour digits higher or equal to 24\n",
    "\n",
    "    Args:\n",
    "        start_time: The GTFS start time value as a 'HH:MM:SS' string.\n",
    "        end_time: The GTFS end time value as a 'HH:MM:SS' string.\n",
    "\n",
    "    Returns:\n",
    "        int: The time difference in minutes.\n",
    "    \"\"\"\n",
    "    start_hour = int(start_time[:2])\n",
    "    end_hour = int(end_time[:2])\n",
    "    \n",
    "    if start_hour > 23 and end_hour > 23:\n",
    "        # Offset is 24 hours\n",
    "        start_time = datetime.strptime(format_gtfs_time(start_time), '%H:%M:%S')\n",
    "        end_time = datetime.strptime(format_gtfs_time(end_time), '%H:%M:%S')\n",
    "    elif start_hour < 24 and end_hour > 23:\n",
    "        # Offset is 12 hours\n",
    "        start_time = datetime.strptime(format_gtfs_time(start_time, offset=12), '%H:%M:%S')\n",
    "        end_time = datetime.strptime(format_gtfs_time(end_time, offset=12), '%H:%M:%S')\n",
    "    else:\n",
    "        # No offset for already formatted times\n",
    "        start_time = datetime.strptime(start_time, '%H:%M:%S')\n",
    "        end_time = datetime.strptime(end_time, '%H:%M:%S')\n",
    "    \n",
    "    time_difference = (end_time - start_time).total_seconds() / 60\n",
    "    return int(time_difference)"
   ]
  },
  {
   "cell_type": "markdown",
   "id": "1f4197f2",
   "metadata": {},
   "source": [
    "Let's take the minimum and maximum times for each trip through string comparisons"
   ]
  },
  {
   "cell_type": "code",
   "execution_count": 171,
   "id": "d65397a4",
   "metadata": {},
   "outputs": [],
   "source": [
    "trip_times = (\n",
    "    stop_times\n",
    "    .group_by('trip_id')\n",
    "    .agg(\n",
    "        pl.col('arrival_time').min().alias('min_time'),\n",
    "        pl.col('arrival_time').max().alias('max_time')\n",
    "    )   \n",
    ")"
   ]
  },
  {
   "cell_type": "markdown",
   "id": "079b6735",
   "metadata": {},
   "source": [
    "**Example with both times starting with hour measures higher or equal than 24**"
   ]
  },
  {
   "cell_type": "code",
   "execution_count": 172,
   "id": "b6d9e869",
   "metadata": {},
   "outputs": [
    {
     "data": {
      "text/html": [
       "<div><style>\n",
       ".dataframe > thead > tr,\n",
       ".dataframe > tbody > tr {\n",
       "  text-align: right;\n",
       "  white-space: pre-wrap;\n",
       "}\n",
       "</style>\n",
       "<small>shape: (1, 3)</small><table border=\"1\" class=\"dataframe\"><thead><tr><th>trip_id</th><th>min_time</th><th>max_time</th></tr><tr><td>str</td><td>str</td><td>str</td></tr></thead><tbody><tr><td>&quot;143421-1&quot;</td><td>&quot;25:30:00&quot;</td><td>&quot;26:33:56&quot;</td></tr></tbody></table></div>"
      ],
      "text/plain": [
       "shape: (1, 3)\n",
       "┌──────────┬──────────┬──────────┐\n",
       "│ trip_id  ┆ min_time ┆ max_time │\n",
       "│ ---      ┆ ---      ┆ ---      │\n",
       "│ str      ┆ str      ┆ str      │\n",
       "╞══════════╪══════════╪══════════╡\n",
       "│ 143421-1 ┆ 25:30:00 ┆ 26:33:56 │\n",
       "└──────────┴──────────┴──────────┘"
      ]
     },
     "execution_count": 172,
     "metadata": {},
     "output_type": "execute_result"
    }
   ],
   "source": [
    "# ORIGINAL\n",
    "trip_times.filter(pl.col('trip_id') == '143421-1')"
   ]
  },
  {
   "cell_type": "code",
   "execution_count": 173,
   "id": "47021bbc",
   "metadata": {},
   "outputs": [
    {
     "data": {
      "text/html": [
       "<div><style>\n",
       ".dataframe > thead > tr,\n",
       ".dataframe > tbody > tr {\n",
       "  text-align: right;\n",
       "  white-space: pre-wrap;\n",
       "}\n",
       "</style>\n",
       "<small>shape: (1, 3)</small><table border=\"1\" class=\"dataframe\"><thead><tr><th>trip_id</th><th>min_time</th><th>max_time</th></tr><tr><td>str</td><td>str</td><td>str</td></tr></thead><tbody><tr><td>&quot;143421-1&quot;</td><td>&quot;01:30:00&quot;</td><td>&quot;02:33:56&quot;</td></tr></tbody></table></div>"
      ],
      "text/plain": [
       "shape: (1, 3)\n",
       "┌──────────┬──────────┬──────────┐\n",
       "│ trip_id  ┆ min_time ┆ max_time │\n",
       "│ ---      ┆ ---      ┆ ---      │\n",
       "│ str      ┆ str      ┆ str      │\n",
       "╞══════════╪══════════╪══════════╡\n",
       "│ 143421-1 ┆ 01:30:00 ┆ 02:33:56 │\n",
       "└──────────┴──────────┴──────────┘"
      ]
     },
     "execution_count": 173,
     "metadata": {},
     "output_type": "execute_result"
    }
   ],
   "source": [
    "# FORMATTED\n",
    "trip_times. \\\n",
    "    filter(pl.col('trip_id') == '143421-1'). \\\n",
    "    with_columns([\n",
    "        pl.col('min_time').map_elements(format_gtfs_time, return_dtype=pl.String).alias('min_time'),\n",
    "        pl.col('max_time').map_elements(format_gtfs_time, return_dtype=pl.String).alias('max_time')\n",
    "    ])\n",
    "    "
   ]
  },
  {
   "cell_type": "markdown",
   "id": "ad8c79cc",
   "metadata": {},
   "source": [
    "**Example with only the end time starting with an hour measure higher or equal than 24**"
   ]
  },
  {
   "cell_type": "markdown",
   "id": "bb584481",
   "metadata": {},
   "source": [
    "_Note that, unlike the previous case, the new times have a variant offset which does not preserve the identity of the original values, but are still useful to get accurate time differences_"
   ]
  },
  {
   "cell_type": "code",
   "execution_count": 148,
   "id": "47c5124e",
   "metadata": {},
   "outputs": [
    {
     "data": {
      "text/html": [
       "<div><style>\n",
       ".dataframe > thead > tr,\n",
       ".dataframe > tbody > tr {\n",
       "  text-align: right;\n",
       "  white-space: pre-wrap;\n",
       "}\n",
       "</style>\n",
       "<small>shape: (1, 3)</small><table border=\"1\" class=\"dataframe\"><thead><tr><th>trip_id</th><th>min_time</th><th>max_time</th></tr><tr><td>str</td><td>str</td><td>str</td></tr></thead><tbody><tr><td>&quot;436399-1&quot;</td><td>&quot;22:20:00&quot;</td><td>&quot;24:33:00&quot;</td></tr></tbody></table></div>"
      ],
      "text/plain": [
       "shape: (1, 3)\n",
       "┌──────────┬──────────┬──────────┐\n",
       "│ trip_id  ┆ min_time ┆ max_time │\n",
       "│ ---      ┆ ---      ┆ ---      │\n",
       "│ str      ┆ str      ┆ str      │\n",
       "╞══════════╪══════════╪══════════╡\n",
       "│ 436399-1 ┆ 22:20:00 ┆ 24:33:00 │\n",
       "└──────────┴──────────┴──────────┘"
      ]
     },
     "execution_count": 148,
     "metadata": {},
     "output_type": "execute_result"
    }
   ],
   "source": [
    "# ORIGINAL\n",
    "trip_times.filter(pl.col('trip_id') == '436399-1')"
   ]
  },
  {
   "cell_type": "code",
   "execution_count": 174,
   "id": "b073de92",
   "metadata": {},
   "outputs": [
    {
     "data": {
      "text/html": [
       "<div><style>\n",
       ".dataframe > thead > tr,\n",
       ".dataframe > tbody > tr {\n",
       "  text-align: right;\n",
       "  white-space: pre-wrap;\n",
       "}\n",
       "</style>\n",
       "<small>shape: (1, 3)</small><table border=\"1\" class=\"dataframe\"><thead><tr><th>trip_id</th><th>min_time</th><th>max_time</th></tr><tr><td>str</td><td>str</td><td>str</td></tr></thead><tbody><tr><td>&quot;436399-1&quot;</td><td>&quot;10:20:00&quot;</td><td>&quot;12:33:00&quot;</td></tr></tbody></table></div>"
      ],
      "text/plain": [
       "shape: (1, 3)\n",
       "┌──────────┬──────────┬──────────┐\n",
       "│ trip_id  ┆ min_time ┆ max_time │\n",
       "│ ---      ┆ ---      ┆ ---      │\n",
       "│ str      ┆ str      ┆ str      │\n",
       "╞══════════╪══════════╪══════════╡\n",
       "│ 436399-1 ┆ 10:20:00 ┆ 12:33:00 │\n",
       "└──────────┴──────────┴──────────┘"
      ]
     },
     "execution_count": 174,
     "metadata": {},
     "output_type": "execute_result"
    }
   ],
   "source": [
    "# FORMATTED\n",
    "trip_times. \\\n",
    "    filter(pl.col('trip_id') == '436399-1'). \\\n",
    "    with_columns(\n",
    "        pl.col('min_time').map_elements(lambda x: format_gtfs_time(x, 12), return_dtype=pl.String).alias('min_time'),\n",
    "        pl.col('max_time').map_elements(lambda x: format_gtfs_time(x, 12), return_dtype=pl.String).alias('max_time')\n",
    "    )"
   ]
  },
  {
   "cell_type": "markdown",
   "id": "bf04ea1a",
   "metadata": {},
   "source": [
    "Although individual trips grouped by route_id and direction_id were selected through TRIP-CASE-2 for previous average measurements, stop times and therefore total trip times can also change according to the service type that the trips belong to"
   ]
  },
  {
   "cell_type": "markdown",
   "id": "6c8b6479",
   "metadata": {},
   "source": [
    "> This property of stop times was clarified in later testing where final average route times, taken with the TRIP-CASE-2 approach, were mostly unequal to average route times computed with arbitrary trips"
   ]
  },
  {
   "cell_type": "code",
   "execution_count": 175,
   "id": "859c53e9",
   "metadata": {},
   "outputs": [],
   "source": [
    "trip_times_diff = (\n",
    "    trip_times\n",
    "    .with_columns(\n",
    "        pl.struct(['min_time', 'max_time']) # Get both columns to compute the difference\n",
    "        .map_elements(lambda x: gtfs_time_difference(x['min_time'], x['max_time']), return_dtype=pl.Int16)\n",
    "        .alias('total_minutes')\n",
    "    )\n",
    "    .select('trip_id', 'total_minutes')\n",
    ")"
   ]
  },
  {
   "cell_type": "code",
   "execution_count": 186,
   "id": "cbbe2b25",
   "metadata": {},
   "outputs": [
    {
     "data": {
      "text/html": [
       "<div><style>\n",
       ".dataframe > thead > tr,\n",
       ".dataframe > tbody > tr {\n",
       "  text-align: right;\n",
       "  white-space: pre-wrap;\n",
       "}\n",
       "</style>\n",
       "<small>shape: (8, 6)</small><table border=\"1\" class=\"dataframe\"><thead><tr><th>route_id</th><th>service_id</th><th>direction_id</th><th>shape_id</th><th>trip_id</th><th>total_minutes</th></tr><tr><td>i64</td><td>i64</td><td>i64</td><td>i64</td><td>str</td><td>i16</td></tr></thead><tbody><tr><td>100</td><td>1</td><td>0</td><td>1</td><td>&quot;1-1&quot;</td><td>64</td></tr><tr><td>100</td><td>1</td><td>1</td><td>2</td><td>&quot;89-1&quot;</td><td>64</td></tr><tr><td>100</td><td>2</td><td>1</td><td>2</td><td>&quot;112957-1&quot;</td><td>64</td></tr><tr><td>100</td><td>2</td><td>0</td><td>1</td><td>&quot;112890-1&quot;</td><td>64</td></tr><tr><td>100</td><td>3</td><td>0</td><td>1</td><td>&quot;208858-1&quot;</td><td>68</td></tr><tr><td>100</td><td>3</td><td>1</td><td>2</td><td>&quot;209002-1&quot;</td><td>68</td></tr><tr><td>100</td><td>4</td><td>0</td><td>1</td><td>&quot;354848-1&quot;</td><td>64</td></tr><tr><td>100</td><td>4</td><td>1</td><td>2</td><td>&quot;354915-1&quot;</td><td>64</td></tr></tbody></table></div>"
      ],
      "text/plain": [
       "shape: (8, 6)\n",
       "┌──────────┬────────────┬──────────────┬──────────┬──────────┬───────────────┐\n",
       "│ route_id ┆ service_id ┆ direction_id ┆ shape_id ┆ trip_id  ┆ total_minutes │\n",
       "│ ---      ┆ ---        ┆ ---          ┆ ---      ┆ ---      ┆ ---           │\n",
       "│ i64      ┆ i64        ┆ i64          ┆ i64      ┆ str      ┆ i16           │\n",
       "╞══════════╪════════════╪══════════════╪══════════╪══════════╪═══════════════╡\n",
       "│ 100      ┆ 1          ┆ 0            ┆ 1        ┆ 1-1      ┆ 64            │\n",
       "│ 100      ┆ 1          ┆ 1            ┆ 2        ┆ 89-1     ┆ 64            │\n",
       "│ 100      ┆ 2          ┆ 1            ┆ 2        ┆ 112957-1 ┆ 64            │\n",
       "│ 100      ┆ 2          ┆ 0            ┆ 1        ┆ 112890-1 ┆ 64            │\n",
       "│ 100      ┆ 3          ┆ 0            ┆ 1        ┆ 208858-1 ┆ 68            │\n",
       "│ 100      ┆ 3          ┆ 1            ┆ 2        ┆ 209002-1 ┆ 68            │\n",
       "│ 100      ┆ 4          ┆ 0            ┆ 1        ┆ 354848-1 ┆ 64            │\n",
       "│ 100      ┆ 4          ┆ 1            ┆ 2        ┆ 354915-1 ┆ 64            │\n",
       "└──────────┴────────────┴──────────────┴──────────┴──────────┴───────────────┘"
      ]
     },
     "execution_count": 186,
     "metadata": {},
     "output_type": "execute_result"
    }
   ],
   "source": [
    "service_trip_of_routes. \\\n",
    "    join(trip_times_diff, 'trip_id'). \\\n",
    "    filter(pl.col('route_id') == 100). \\\n",
    "    sort('service_id')"
   ]
  },
  {
   "cell_type": "markdown",
   "id": "e4067508",
   "metadata": {},
   "source": [
    "Then, the average is computed from both directions, grouped by route_id, and can be ultimately joined with the `routes` table"
   ]
  },
  {
   "cell_type": "code",
   "execution_count": 191,
   "id": "65727238",
   "metadata": {},
   "outputs": [
    {
     "data": {
      "text/html": [
       "<div><style>\n",
       ".dataframe > thead > tr,\n",
       ".dataframe > tbody > tr {\n",
       "  text-align: right;\n",
       "  white-space: pre-wrap;\n",
       "}\n",
       "</style>\n",
       "<small>shape: (5, 2)</small><table border=\"1\" class=\"dataframe\"><thead><tr><th>route_id</th><th>route_avg_time</th></tr><tr><td>i64</td><td>f64</td></tr></thead><tbody><tr><td>1581</td><td>46.0</td></tr><tr><td>277</td><td>90.0</td></tr><tr><td>3028</td><td>40.0</td></tr><tr><td>283</td><td>141.0</td></tr><tr><td>798</td><td>38.0</td></tr></tbody></table></div>"
      ],
      "text/plain": [
       "shape: (5, 2)\n",
       "┌──────────┬────────────────┐\n",
       "│ route_id ┆ route_avg_time │\n",
       "│ ---      ┆ ---            │\n",
       "│ i64      ┆ f64            │\n",
       "╞══════════╪════════════════╡\n",
       "│ 1581     ┆ 46.0           │\n",
       "│ 277      ┆ 90.0           │\n",
       "│ 3028     ┆ 40.0           │\n",
       "│ 283      ┆ 141.0          │\n",
       "│ 798      ┆ 38.0           │\n",
       "└──────────┴────────────────┘"
      ]
     },
     "execution_count": 191,
     "metadata": {},
     "output_type": "execute_result"
    }
   ],
   "source": [
    "service_trip_of_routes. \\\n",
    "    join(trip_times_diff, 'trip_id'). \\\n",
    "    group_by('route_id'). \\\n",
    "    agg(pl.col('total_minutes').mean().round().alias('route_avg_time')). \\\n",
    "    head()"
   ]
  }
 ],
 "metadata": {
  "kernelspec": {
   "display_name": "venv",
   "language": "python",
   "name": "python3"
  },
  "language_info": {
   "codemirror_mode": {
    "name": "ipython",
    "version": 3
   },
   "file_extension": ".py",
   "mimetype": "text/x-python",
   "name": "python",
   "nbconvert_exporter": "python",
   "pygments_lexer": "ipython3",
   "version": "3.12.5"
  }
 },
 "nbformat": 4,
 "nbformat_minor": 5
}
